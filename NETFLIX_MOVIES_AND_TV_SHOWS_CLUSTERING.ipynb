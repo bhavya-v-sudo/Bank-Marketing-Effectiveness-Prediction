{
  "nbformat": 4,
  "nbformat_minor": 0,
  "metadata": {
    "colab": {
      "provenance": [],
      "collapsed_sections": [],
      "include_colab_link": true
    },
    "kernelspec": {
      "name": "python3",
      "display_name": "Python 3"
    },
    "language_info": {
      "name": "python"
    }
  },
  "cells": [
    {
      "cell_type": "markdown",
      "metadata": {
        "id": "view-in-github",
        "colab_type": "text"
      },
      "source": [
        "<a href=\"https://colab.research.google.com/github/coolphotography/Bank-Marketing-Effectiveness-Prediction/blob/main/NETFLIX_MOVIES_AND_TV_SHOWS_CLUSTERING.ipynb\" target=\"_parent\"><img src=\"https://colab.research.google.com/assets/colab-badge.svg\" alt=\"Open In Colab\"/></a>"
      ]
    },
    {
      "cell_type": "markdown",
      "metadata": {
        "id": "LGcl5Bv9ed6u"
      },
      "source": [
        "# **Problem Statement**"
      ]
    },
    {
      "cell_type": "markdown",
      "metadata": {
        "id": "8M5kyFaVjzXk"
      },
      "source": [
        "This dataset consists of tv shows and movies available on Netflix as of 2019. The dataset is collected from Flixable which is a third-party Netflix search engine.\n",
        "\n",
        "In 2018, they released an interesting report which shows that the number of TV shows on Netflix has nearly tripled since 2010. The streaming service’s number of movies has decreased by more than 2,000 titles since 2010, while its number of TV shows has nearly tripled. It will be interesting to explore what all other insights can be obtained from the same dataset.\n",
        "\n",
        "Integrating this dataset with other external datasets such as IMDB ratings, rotten tomatoes can also provide many interesting findings."
      ]
    },
    {
      "cell_type": "markdown",
      "metadata": {
        "id": "tLx5cJO8hzb1"
      },
      "source": [
        "## <b>In this  project, you are required to do </b>\n",
        "1. Exploratory Data Analysis \n",
        "\n",
        "2. Understanding what type content is available in different countries\n",
        "\n",
        "3. Is Netflix has increasingly focusing on TV rather than movies in recent years.\n",
        "4. Clustering similar content by matching text-based features\n",
        "\n"
      ]
    },
    {
      "cell_type": "markdown",
      "metadata": {
        "id": "AzGDqdC4fZ-b"
      },
      "source": [
        "# **Attribute Information**"
      ]
    },
    {
      "cell_type": "markdown",
      "metadata": {
        "id": "jhfLYargscGV"
      },
      "source": [
        "1. show_id : Unique ID for every Movie / Tv Show\n",
        "\n",
        "2. type : Identifier - A Movie or TV Show\n",
        "\n",
        "3. title : Title of the Movie / Tv Show\n",
        "\n",
        "4. director : Director of the Movie\n",
        "\n",
        "5. cast : Actors involved in the movie / show\n",
        "\n",
        "6. country : Country where the movie / show was produced\n",
        "\n",
        "7. date_added : Date it was added on Netflix\n",
        "\n",
        "8. release_year : Actual Releaseyear of the movie / show\n",
        "\n",
        "9. rating : TV Rating of the movie / show\n",
        "\n",
        "10. duration : Total Duration - in minutes or number of seasons\n",
        "\n",
        "11. listed_in : Genere\n",
        "\n",
        "12. description: The Summary description"
      ]
    },
    {
      "cell_type": "code",
      "source": [
        "# Import libraries\n",
        "# Basic libs\n",
        "import pandas as pd\n",
        "import numpy as np\n",
        "from numpy import math\n",
        "\n",
        "# Data Visualization\n",
        "import seaborn as sns\n",
        "import matplotlib.pyplot as plt\n",
        "\n",
        "%matplotlib inline\n",
        "# Ignore  the warnings\n",
        "import warnings\n",
        "warnings.simplefilter(action=\"ignore\", category=FutureWarning)\n",
        "\n",
        "from sklearn.feature_extraction.text import CountVectorizer, TfidfVectorizer\n",
        "from sklearn.model_selection import train_test_split, KFold\n",
        "from nltk.corpus import stopwords\n",
        "from nltk.stem.snowball import SnowballStemmer\n",
        "\n",
        "from sklearn.decomposition import LatentDirichletAllocation\n",
        "# Parameters tuning using Grid Search\n",
        "from sklearn.model_selection import GridSearchCV\n",
        "from sklearn.preprocessing import MultiLabelBinarizer\n",
        "\n",
        "# kmeans\n",
        "from sklearn.preprocessing import MinMaxScaler\n",
        "from sklearn.cluster import KMeans"
      ],
      "metadata": {
        "id": "dLjKi1zGzFU-"
      },
      "execution_count": 55,
      "outputs": []
    },
    {
      "cell_type": "markdown",
      "source": [
        "### **Data Set Overview**"
      ],
      "metadata": {
        "id": "4t6Fa29qoVdY"
      }
    },
    {
      "cell_type": "code",
      "source": [
        "# Mount the drive\n",
        "from google.colab import drive\n",
        "drive.mount('/content/drive')"
      ],
      "metadata": {
        "colab": {
          "base_uri": "https://localhost:8080/"
        },
        "id": "89-t9t1RoWPC",
        "outputId": "67400fc7-8ace-492a-98f4-cd81b25ebd92"
      },
      "execution_count": 3,
      "outputs": [
        {
          "output_type": "stream",
          "name": "stdout",
          "text": [
            "Mounted at /content/drive\n"
          ]
        }
      ]
    },
    {
      "cell_type": "markdown",
      "source": [
        "**Load the data**"
      ],
      "metadata": {
        "id": "UV4x4f5-ocmR"
      }
    },
    {
      "cell_type": "code",
      "source": [
        "# Read the data\n",
        "# converts csv file to DataFrame.\n",
        "netflix_df = pd.read_csv('/content/drive/MyDrive/capstone project - 4/NETFLIX MOVIES AND TV SHOWS CLUSTERING.csv')"
      ],
      "metadata": {
        "id": "KPCX674soaTY"
      },
      "execution_count": 4,
      "outputs": []
    },
    {
      "cell_type": "markdown",
      "source": [
        "**First Five Observations**"
      ],
      "metadata": {
        "id": "tvc-YZ92omXN"
      }
    },
    {
      "cell_type": "code",
      "source": [
        "# Observing the first five observations using head()\n",
        "netflix_df.head()"
      ],
      "metadata": {
        "colab": {
          "base_uri": "https://localhost:8080/",
          "height": 424
        },
        "id": "2QDDdeL3oof9",
        "outputId": "5928f378-4b02-41cf-bbf9-fd493504489a"
      },
      "execution_count": 5,
      "outputs": [
        {
          "output_type": "execute_result",
          "data": {
            "text/plain": [
              "  show_id     type  title           director  \\\n",
              "0      s1  TV Show     3%                NaN   \n",
              "1      s2    Movie   7:19  Jorge Michel Grau   \n",
              "2      s3    Movie  23:59       Gilbert Chan   \n",
              "3      s4    Movie      9        Shane Acker   \n",
              "4      s5    Movie     21     Robert Luketic   \n",
              "\n",
              "                                                cast        country  \\\n",
              "0  João Miguel, Bianca Comparato, Michel Gomes, R...         Brazil   \n",
              "1  Demián Bichir, Héctor Bonilla, Oscar Serrano, ...         Mexico   \n",
              "2  Tedd Chan, Stella Chung, Henley Hii, Lawrence ...      Singapore   \n",
              "3  Elijah Wood, John C. Reilly, Jennifer Connelly...  United States   \n",
              "4  Jim Sturgess, Kevin Spacey, Kate Bosworth, Aar...  United States   \n",
              "\n",
              "          date_added  release_year rating   duration  \\\n",
              "0    August 14, 2020          2020  TV-MA  4 Seasons   \n",
              "1  December 23, 2016          2016  TV-MA     93 min   \n",
              "2  December 20, 2018          2011      R     78 min   \n",
              "3  November 16, 2017          2009  PG-13     80 min   \n",
              "4    January 1, 2020          2008  PG-13    123 min   \n",
              "\n",
              "                                           listed_in  \\\n",
              "0  International TV Shows, TV Dramas, TV Sci-Fi &...   \n",
              "1                       Dramas, International Movies   \n",
              "2                Horror Movies, International Movies   \n",
              "3  Action & Adventure, Independent Movies, Sci-Fi...   \n",
              "4                                             Dramas   \n",
              "\n",
              "                                         description  \n",
              "0  In a future where the elite inhabit an island ...  \n",
              "1  After a devastating earthquake hits Mexico Cit...  \n",
              "2  When an army recruit is found dead, his fellow...  \n",
              "3  In a postapocalyptic world, rag-doll robots hi...  \n",
              "4  A brilliant group of students become card-coun...  "
            ],
            "text/html": [
              "\n",
              "  <div id=\"df-bc6772ef-b4a8-442d-b63e-9a21c81a97b7\">\n",
              "    <div class=\"colab-df-container\">\n",
              "      <div>\n",
              "<style scoped>\n",
              "    .dataframe tbody tr th:only-of-type {\n",
              "        vertical-align: middle;\n",
              "    }\n",
              "\n",
              "    .dataframe tbody tr th {\n",
              "        vertical-align: top;\n",
              "    }\n",
              "\n",
              "    .dataframe thead th {\n",
              "        text-align: right;\n",
              "    }\n",
              "</style>\n",
              "<table border=\"1\" class=\"dataframe\">\n",
              "  <thead>\n",
              "    <tr style=\"text-align: right;\">\n",
              "      <th></th>\n",
              "      <th>show_id</th>\n",
              "      <th>type</th>\n",
              "      <th>title</th>\n",
              "      <th>director</th>\n",
              "      <th>cast</th>\n",
              "      <th>country</th>\n",
              "      <th>date_added</th>\n",
              "      <th>release_year</th>\n",
              "      <th>rating</th>\n",
              "      <th>duration</th>\n",
              "      <th>listed_in</th>\n",
              "      <th>description</th>\n",
              "    </tr>\n",
              "  </thead>\n",
              "  <tbody>\n",
              "    <tr>\n",
              "      <th>0</th>\n",
              "      <td>s1</td>\n",
              "      <td>TV Show</td>\n",
              "      <td>3%</td>\n",
              "      <td>NaN</td>\n",
              "      <td>João Miguel, Bianca Comparato, Michel Gomes, R...</td>\n",
              "      <td>Brazil</td>\n",
              "      <td>August 14, 2020</td>\n",
              "      <td>2020</td>\n",
              "      <td>TV-MA</td>\n",
              "      <td>4 Seasons</td>\n",
              "      <td>International TV Shows, TV Dramas, TV Sci-Fi &amp;...</td>\n",
              "      <td>In a future where the elite inhabit an island ...</td>\n",
              "    </tr>\n",
              "    <tr>\n",
              "      <th>1</th>\n",
              "      <td>s2</td>\n",
              "      <td>Movie</td>\n",
              "      <td>7:19</td>\n",
              "      <td>Jorge Michel Grau</td>\n",
              "      <td>Demián Bichir, Héctor Bonilla, Oscar Serrano, ...</td>\n",
              "      <td>Mexico</td>\n",
              "      <td>December 23, 2016</td>\n",
              "      <td>2016</td>\n",
              "      <td>TV-MA</td>\n",
              "      <td>93 min</td>\n",
              "      <td>Dramas, International Movies</td>\n",
              "      <td>After a devastating earthquake hits Mexico Cit...</td>\n",
              "    </tr>\n",
              "    <tr>\n",
              "      <th>2</th>\n",
              "      <td>s3</td>\n",
              "      <td>Movie</td>\n",
              "      <td>23:59</td>\n",
              "      <td>Gilbert Chan</td>\n",
              "      <td>Tedd Chan, Stella Chung, Henley Hii, Lawrence ...</td>\n",
              "      <td>Singapore</td>\n",
              "      <td>December 20, 2018</td>\n",
              "      <td>2011</td>\n",
              "      <td>R</td>\n",
              "      <td>78 min</td>\n",
              "      <td>Horror Movies, International Movies</td>\n",
              "      <td>When an army recruit is found dead, his fellow...</td>\n",
              "    </tr>\n",
              "    <tr>\n",
              "      <th>3</th>\n",
              "      <td>s4</td>\n",
              "      <td>Movie</td>\n",
              "      <td>9</td>\n",
              "      <td>Shane Acker</td>\n",
              "      <td>Elijah Wood, John C. Reilly, Jennifer Connelly...</td>\n",
              "      <td>United States</td>\n",
              "      <td>November 16, 2017</td>\n",
              "      <td>2009</td>\n",
              "      <td>PG-13</td>\n",
              "      <td>80 min</td>\n",
              "      <td>Action &amp; Adventure, Independent Movies, Sci-Fi...</td>\n",
              "      <td>In a postapocalyptic world, rag-doll robots hi...</td>\n",
              "    </tr>\n",
              "    <tr>\n",
              "      <th>4</th>\n",
              "      <td>s5</td>\n",
              "      <td>Movie</td>\n",
              "      <td>21</td>\n",
              "      <td>Robert Luketic</td>\n",
              "      <td>Jim Sturgess, Kevin Spacey, Kate Bosworth, Aar...</td>\n",
              "      <td>United States</td>\n",
              "      <td>January 1, 2020</td>\n",
              "      <td>2008</td>\n",
              "      <td>PG-13</td>\n",
              "      <td>123 min</td>\n",
              "      <td>Dramas</td>\n",
              "      <td>A brilliant group of students become card-coun...</td>\n",
              "    </tr>\n",
              "  </tbody>\n",
              "</table>\n",
              "</div>\n",
              "      <button class=\"colab-df-convert\" onclick=\"convertToInteractive('df-bc6772ef-b4a8-442d-b63e-9a21c81a97b7')\"\n",
              "              title=\"Convert this dataframe to an interactive table.\"\n",
              "              style=\"display:none;\">\n",
              "        \n",
              "  <svg xmlns=\"http://www.w3.org/2000/svg\" height=\"24px\"viewBox=\"0 0 24 24\"\n",
              "       width=\"24px\">\n",
              "    <path d=\"M0 0h24v24H0V0z\" fill=\"none\"/>\n",
              "    <path d=\"M18.56 5.44l.94 2.06.94-2.06 2.06-.94-2.06-.94-.94-2.06-.94 2.06-2.06.94zm-11 1L8.5 8.5l.94-2.06 2.06-.94-2.06-.94L8.5 2.5l-.94 2.06-2.06.94zm10 10l.94 2.06.94-2.06 2.06-.94-2.06-.94-.94-2.06-.94 2.06-2.06.94z\"/><path d=\"M17.41 7.96l-1.37-1.37c-.4-.4-.92-.59-1.43-.59-.52 0-1.04.2-1.43.59L10.3 9.45l-7.72 7.72c-.78.78-.78 2.05 0 2.83L4 21.41c.39.39.9.59 1.41.59.51 0 1.02-.2 1.41-.59l7.78-7.78 2.81-2.81c.8-.78.8-2.07 0-2.86zM5.41 20L4 18.59l7.72-7.72 1.47 1.35L5.41 20z\"/>\n",
              "  </svg>\n",
              "      </button>\n",
              "      \n",
              "  <style>\n",
              "    .colab-df-container {\n",
              "      display:flex;\n",
              "      flex-wrap:wrap;\n",
              "      gap: 12px;\n",
              "    }\n",
              "\n",
              "    .colab-df-convert {\n",
              "      background-color: #E8F0FE;\n",
              "      border: none;\n",
              "      border-radius: 50%;\n",
              "      cursor: pointer;\n",
              "      display: none;\n",
              "      fill: #1967D2;\n",
              "      height: 32px;\n",
              "      padding: 0 0 0 0;\n",
              "      width: 32px;\n",
              "    }\n",
              "\n",
              "    .colab-df-convert:hover {\n",
              "      background-color: #E2EBFA;\n",
              "      box-shadow: 0px 1px 2px rgba(60, 64, 67, 0.3), 0px 1px 3px 1px rgba(60, 64, 67, 0.15);\n",
              "      fill: #174EA6;\n",
              "    }\n",
              "\n",
              "    [theme=dark] .colab-df-convert {\n",
              "      background-color: #3B4455;\n",
              "      fill: #D2E3FC;\n",
              "    }\n",
              "\n",
              "    [theme=dark] .colab-df-convert:hover {\n",
              "      background-color: #434B5C;\n",
              "      box-shadow: 0px 1px 3px 1px rgba(0, 0, 0, 0.15);\n",
              "      filter: drop-shadow(0px 1px 2px rgba(0, 0, 0, 0.3));\n",
              "      fill: #FFFFFF;\n",
              "    }\n",
              "  </style>\n",
              "\n",
              "      <script>\n",
              "        const buttonEl =\n",
              "          document.querySelector('#df-bc6772ef-b4a8-442d-b63e-9a21c81a97b7 button.colab-df-convert');\n",
              "        buttonEl.style.display =\n",
              "          google.colab.kernel.accessAllowed ? 'block' : 'none';\n",
              "\n",
              "        async function convertToInteractive(key) {\n",
              "          const element = document.querySelector('#df-bc6772ef-b4a8-442d-b63e-9a21c81a97b7');\n",
              "          const dataTable =\n",
              "            await google.colab.kernel.invokeFunction('convertToInteractive',\n",
              "                                                     [key], {});\n",
              "          if (!dataTable) return;\n",
              "\n",
              "          const docLinkHtml = 'Like what you see? Visit the ' +\n",
              "            '<a target=\"_blank\" href=https://colab.research.google.com/notebooks/data_table.ipynb>data table notebook</a>'\n",
              "            + ' to learn more about interactive tables.';\n",
              "          element.innerHTML = '';\n",
              "          dataTable['output_type'] = 'display_data';\n",
              "          await google.colab.output.renderOutput(dataTable, element);\n",
              "          const docLink = document.createElement('div');\n",
              "          docLink.innerHTML = docLinkHtml;\n",
              "          element.appendChild(docLink);\n",
              "        }\n",
              "      </script>\n",
              "    </div>\n",
              "  </div>\n",
              "  "
            ]
          },
          "metadata": {},
          "execution_count": 5
        }
      ]
    },
    {
      "cell_type": "markdown",
      "source": [
        "OBSERVATION:\n",
        "\n",
        "We can notice the dataset has Nan. This looks like a typical movies/shows dataset without user ratings."
      ],
      "metadata": {
        "id": "aW3ahUVdoyay"
      }
    },
    {
      "cell_type": "markdown",
      "source": [
        "**Last Five Observations**"
      ],
      "metadata": {
        "id": "Pvq932Wro7XE"
      }
    },
    {
      "cell_type": "code",
      "source": [
        "# Observing the last five observations using tail()\n",
        "netflix_df.tail()"
      ],
      "metadata": {
        "colab": {
          "base_uri": "https://localhost:8080/",
          "height": 563
        },
        "id": "aAyyD2ZvozOU",
        "outputId": "69ac8550-ea92-497f-ec2b-ea96d84b4481"
      },
      "execution_count": 6,
      "outputs": [
        {
          "output_type": "execute_result",
          "data": {
            "text/plain": [
              "     show_id     type                                    title     director  \\\n",
              "7782   s7783    Movie                                     Zozo  Josef Fares   \n",
              "7783   s7784    Movie                                   Zubaan  Mozez Singh   \n",
              "7784   s7785    Movie                        Zulu Man in Japan          NaN   \n",
              "7785   s7786  TV Show                    Zumbo's Just Desserts          NaN   \n",
              "7786   s7787    Movie  ZZ TOP: THAT LITTLE OL' BAND FROM TEXAS     Sam Dunn   \n",
              "\n",
              "                                                   cast  \\\n",
              "7782  Imad Creidi, Antoinette Turk, Elias Gergi, Car...   \n",
              "7783  Vicky Kaushal, Sarah-Jane Dias, Raaghav Chanan...   \n",
              "7784                                            Nasty C   \n",
              "7785                         Adriano Zumbo, Rachel Khoo   \n",
              "7786                                                NaN   \n",
              "\n",
              "                                                country          date_added  \\\n",
              "7782  Sweden, Czech Republic, United Kingdom, Denmar...    October 19, 2020   \n",
              "7783                                              India       March 2, 2019   \n",
              "7784                                                NaN  September 25, 2020   \n",
              "7785                                          Australia    October 31, 2020   \n",
              "7786              United Kingdom, Canada, United States       March 1, 2020   \n",
              "\n",
              "      release_year rating  duration  \\\n",
              "7782          2005  TV-MA    99 min   \n",
              "7783          2015  TV-14   111 min   \n",
              "7784          2019  TV-MA    44 min   \n",
              "7785          2019  TV-PG  1 Season   \n",
              "7786          2019  TV-MA    90 min   \n",
              "\n",
              "                                              listed_in  \\\n",
              "7782                       Dramas, International Movies   \n",
              "7783     Dramas, International Movies, Music & Musicals   \n",
              "7784  Documentaries, International Movies, Music & M...   \n",
              "7785                 International TV Shows, Reality TV   \n",
              "7786                    Documentaries, Music & Musicals   \n",
              "\n",
              "                                            description  \n",
              "7782  When Lebanon's Civil War deprives Zozo of his ...  \n",
              "7783  A scrappy but poor boy worms his way into a ty...  \n",
              "7784  In this documentary, South African rapper Nast...  \n",
              "7785  Dessert wizard Adriano Zumbo looks for the nex...  \n",
              "7786  This documentary delves into the mystique behi...  "
            ],
            "text/html": [
              "\n",
              "  <div id=\"df-f03355b6-5f19-41cf-8dda-59238b235e72\">\n",
              "    <div class=\"colab-df-container\">\n",
              "      <div>\n",
              "<style scoped>\n",
              "    .dataframe tbody tr th:only-of-type {\n",
              "        vertical-align: middle;\n",
              "    }\n",
              "\n",
              "    .dataframe tbody tr th {\n",
              "        vertical-align: top;\n",
              "    }\n",
              "\n",
              "    .dataframe thead th {\n",
              "        text-align: right;\n",
              "    }\n",
              "</style>\n",
              "<table border=\"1\" class=\"dataframe\">\n",
              "  <thead>\n",
              "    <tr style=\"text-align: right;\">\n",
              "      <th></th>\n",
              "      <th>show_id</th>\n",
              "      <th>type</th>\n",
              "      <th>title</th>\n",
              "      <th>director</th>\n",
              "      <th>cast</th>\n",
              "      <th>country</th>\n",
              "      <th>date_added</th>\n",
              "      <th>release_year</th>\n",
              "      <th>rating</th>\n",
              "      <th>duration</th>\n",
              "      <th>listed_in</th>\n",
              "      <th>description</th>\n",
              "    </tr>\n",
              "  </thead>\n",
              "  <tbody>\n",
              "    <tr>\n",
              "      <th>7782</th>\n",
              "      <td>s7783</td>\n",
              "      <td>Movie</td>\n",
              "      <td>Zozo</td>\n",
              "      <td>Josef Fares</td>\n",
              "      <td>Imad Creidi, Antoinette Turk, Elias Gergi, Car...</td>\n",
              "      <td>Sweden, Czech Republic, United Kingdom, Denmar...</td>\n",
              "      <td>October 19, 2020</td>\n",
              "      <td>2005</td>\n",
              "      <td>TV-MA</td>\n",
              "      <td>99 min</td>\n",
              "      <td>Dramas, International Movies</td>\n",
              "      <td>When Lebanon's Civil War deprives Zozo of his ...</td>\n",
              "    </tr>\n",
              "    <tr>\n",
              "      <th>7783</th>\n",
              "      <td>s7784</td>\n",
              "      <td>Movie</td>\n",
              "      <td>Zubaan</td>\n",
              "      <td>Mozez Singh</td>\n",
              "      <td>Vicky Kaushal, Sarah-Jane Dias, Raaghav Chanan...</td>\n",
              "      <td>India</td>\n",
              "      <td>March 2, 2019</td>\n",
              "      <td>2015</td>\n",
              "      <td>TV-14</td>\n",
              "      <td>111 min</td>\n",
              "      <td>Dramas, International Movies, Music &amp; Musicals</td>\n",
              "      <td>A scrappy but poor boy worms his way into a ty...</td>\n",
              "    </tr>\n",
              "    <tr>\n",
              "      <th>7784</th>\n",
              "      <td>s7785</td>\n",
              "      <td>Movie</td>\n",
              "      <td>Zulu Man in Japan</td>\n",
              "      <td>NaN</td>\n",
              "      <td>Nasty C</td>\n",
              "      <td>NaN</td>\n",
              "      <td>September 25, 2020</td>\n",
              "      <td>2019</td>\n",
              "      <td>TV-MA</td>\n",
              "      <td>44 min</td>\n",
              "      <td>Documentaries, International Movies, Music &amp; M...</td>\n",
              "      <td>In this documentary, South African rapper Nast...</td>\n",
              "    </tr>\n",
              "    <tr>\n",
              "      <th>7785</th>\n",
              "      <td>s7786</td>\n",
              "      <td>TV Show</td>\n",
              "      <td>Zumbo's Just Desserts</td>\n",
              "      <td>NaN</td>\n",
              "      <td>Adriano Zumbo, Rachel Khoo</td>\n",
              "      <td>Australia</td>\n",
              "      <td>October 31, 2020</td>\n",
              "      <td>2019</td>\n",
              "      <td>TV-PG</td>\n",
              "      <td>1 Season</td>\n",
              "      <td>International TV Shows, Reality TV</td>\n",
              "      <td>Dessert wizard Adriano Zumbo looks for the nex...</td>\n",
              "    </tr>\n",
              "    <tr>\n",
              "      <th>7786</th>\n",
              "      <td>s7787</td>\n",
              "      <td>Movie</td>\n",
              "      <td>ZZ TOP: THAT LITTLE OL' BAND FROM TEXAS</td>\n",
              "      <td>Sam Dunn</td>\n",
              "      <td>NaN</td>\n",
              "      <td>United Kingdom, Canada, United States</td>\n",
              "      <td>March 1, 2020</td>\n",
              "      <td>2019</td>\n",
              "      <td>TV-MA</td>\n",
              "      <td>90 min</td>\n",
              "      <td>Documentaries, Music &amp; Musicals</td>\n",
              "      <td>This documentary delves into the mystique behi...</td>\n",
              "    </tr>\n",
              "  </tbody>\n",
              "</table>\n",
              "</div>\n",
              "      <button class=\"colab-df-convert\" onclick=\"convertToInteractive('df-f03355b6-5f19-41cf-8dda-59238b235e72')\"\n",
              "              title=\"Convert this dataframe to an interactive table.\"\n",
              "              style=\"display:none;\">\n",
              "        \n",
              "  <svg xmlns=\"http://www.w3.org/2000/svg\" height=\"24px\"viewBox=\"0 0 24 24\"\n",
              "       width=\"24px\">\n",
              "    <path d=\"M0 0h24v24H0V0z\" fill=\"none\"/>\n",
              "    <path d=\"M18.56 5.44l.94 2.06.94-2.06 2.06-.94-2.06-.94-.94-2.06-.94 2.06-2.06.94zm-11 1L8.5 8.5l.94-2.06 2.06-.94-2.06-.94L8.5 2.5l-.94 2.06-2.06.94zm10 10l.94 2.06.94-2.06 2.06-.94-2.06-.94-.94-2.06-.94 2.06-2.06.94z\"/><path d=\"M17.41 7.96l-1.37-1.37c-.4-.4-.92-.59-1.43-.59-.52 0-1.04.2-1.43.59L10.3 9.45l-7.72 7.72c-.78.78-.78 2.05 0 2.83L4 21.41c.39.39.9.59 1.41.59.51 0 1.02-.2 1.41-.59l7.78-7.78 2.81-2.81c.8-.78.8-2.07 0-2.86zM5.41 20L4 18.59l7.72-7.72 1.47 1.35L5.41 20z\"/>\n",
              "  </svg>\n",
              "      </button>\n",
              "      \n",
              "  <style>\n",
              "    .colab-df-container {\n",
              "      display:flex;\n",
              "      flex-wrap:wrap;\n",
              "      gap: 12px;\n",
              "    }\n",
              "\n",
              "    .colab-df-convert {\n",
              "      background-color: #E8F0FE;\n",
              "      border: none;\n",
              "      border-radius: 50%;\n",
              "      cursor: pointer;\n",
              "      display: none;\n",
              "      fill: #1967D2;\n",
              "      height: 32px;\n",
              "      padding: 0 0 0 0;\n",
              "      width: 32px;\n",
              "    }\n",
              "\n",
              "    .colab-df-convert:hover {\n",
              "      background-color: #E2EBFA;\n",
              "      box-shadow: 0px 1px 2px rgba(60, 64, 67, 0.3), 0px 1px 3px 1px rgba(60, 64, 67, 0.15);\n",
              "      fill: #174EA6;\n",
              "    }\n",
              "\n",
              "    [theme=dark] .colab-df-convert {\n",
              "      background-color: #3B4455;\n",
              "      fill: #D2E3FC;\n",
              "    }\n",
              "\n",
              "    [theme=dark] .colab-df-convert:hover {\n",
              "      background-color: #434B5C;\n",
              "      box-shadow: 0px 1px 3px 1px rgba(0, 0, 0, 0.15);\n",
              "      filter: drop-shadow(0px 1px 2px rgba(0, 0, 0, 0.3));\n",
              "      fill: #FFFFFF;\n",
              "    }\n",
              "  </style>\n",
              "\n",
              "      <script>\n",
              "        const buttonEl =\n",
              "          document.querySelector('#df-f03355b6-5f19-41cf-8dda-59238b235e72 button.colab-df-convert');\n",
              "        buttonEl.style.display =\n",
              "          google.colab.kernel.accessAllowed ? 'block' : 'none';\n",
              "\n",
              "        async function convertToInteractive(key) {\n",
              "          const element = document.querySelector('#df-f03355b6-5f19-41cf-8dda-59238b235e72');\n",
              "          const dataTable =\n",
              "            await google.colab.kernel.invokeFunction('convertToInteractive',\n",
              "                                                     [key], {});\n",
              "          if (!dataTable) return;\n",
              "\n",
              "          const docLinkHtml = 'Like what you see? Visit the ' +\n",
              "            '<a target=\"_blank\" href=https://colab.research.google.com/notebooks/data_table.ipynb>data table notebook</a>'\n",
              "            + ' to learn more about interactive tables.';\n",
              "          element.innerHTML = '';\n",
              "          dataTable['output_type'] = 'display_data';\n",
              "          await google.colab.output.renderOutput(dataTable, element);\n",
              "          const docLink = document.createElement('div');\n",
              "          docLink.innerHTML = docLinkHtml;\n",
              "          element.appendChild(docLink);\n",
              "        }\n",
              "      </script>\n",
              "    </div>\n",
              "  </div>\n",
              "  "
            ]
          },
          "metadata": {},
          "execution_count": 6
        }
      ]
    },
    {
      "cell_type": "markdown",
      "source": [
        "**Shape of the Data**"
      ],
      "metadata": {
        "id": "SM_mVdUIpAXD"
      }
    },
    {
      "cell_type": "code",
      "source": [
        "netflix_df.shape"
      ],
      "metadata": {
        "colab": {
          "base_uri": "https://localhost:8080/"
        },
        "id": "GWrPubsZpMOf",
        "outputId": "4fd3a482-aab7-420a-e17e-f988615596cd"
      },
      "execution_count": 7,
      "outputs": [
        {
          "output_type": "execute_result",
          "data": {
            "text/plain": [
              "(7787, 12)"
            ]
          },
          "metadata": {},
          "execution_count": 7
        }
      ]
    },
    {
      "cell_type": "markdown",
      "source": [
        "The provided data consists of over 7787 observations with 12 column variables."
      ],
      "metadata": {
        "id": "jiJmqzOfpPSc"
      }
    },
    {
      "cell_type": "markdown",
      "source": [
        "**Feature Data Types**"
      ],
      "metadata": {
        "id": "TO3L-ZyUpSPw"
      }
    },
    {
      "cell_type": "code",
      "source": [
        "# Observing the data types for all the columns.\n",
        "netflix_df.info()"
      ],
      "metadata": {
        "colab": {
          "base_uri": "https://localhost:8080/"
        },
        "id": "R4QENpYOppj_",
        "outputId": "811cd6ae-4b05-4023-8159-800dbf942344"
      },
      "execution_count": 8,
      "outputs": [
        {
          "output_type": "stream",
          "name": "stdout",
          "text": [
            "<class 'pandas.core.frame.DataFrame'>\n",
            "RangeIndex: 7787 entries, 0 to 7786\n",
            "Data columns (total 12 columns):\n",
            " #   Column        Non-Null Count  Dtype \n",
            "---  ------        --------------  ----- \n",
            " 0   show_id       7787 non-null   object\n",
            " 1   type          7787 non-null   object\n",
            " 2   title         7787 non-null   object\n",
            " 3   director      5398 non-null   object\n",
            " 4   cast          7069 non-null   object\n",
            " 5   country       7280 non-null   object\n",
            " 6   date_added    7777 non-null   object\n",
            " 7   release_year  7787 non-null   int64 \n",
            " 8   rating        7780 non-null   object\n",
            " 9   duration      7787 non-null   object\n",
            " 10  listed_in     7787 non-null   object\n",
            " 11  description   7787 non-null   object\n",
            "dtypes: int64(1), object(11)\n",
            "memory usage: 730.2+ KB\n"
          ]
        }
      ]
    },
    {
      "cell_type": "markdown",
      "source": [
        "Few columns- director, cast, country, date_added, rating contain null values."
      ],
      "metadata": {
        "id": "fCUL7tdYpYFI"
      }
    },
    {
      "cell_type": "code",
      "source": [
        "# Feature Statistics Summary\n",
        "# Provides the statistical details for each column.\n",
        "netflix_df.describe(include='all')"
      ],
      "metadata": {
        "colab": {
          "base_uri": "https://localhost:8080/",
          "height": 473
        },
        "id": "wpRrIWtDpmB0",
        "outputId": "0048555d-8f71-4789-ff6f-cb327751e9d6"
      },
      "execution_count": 9,
      "outputs": [
        {
          "output_type": "execute_result",
          "data": {
            "text/plain": [
              "       show_id   type title                director                cast  \\\n",
              "count     7787   7787  7787                    5398                7069   \n",
              "unique    7787      2  7787                    4049                6831   \n",
              "top         s1  Movie    3%  Raúl Campos, Jan Suter  David Attenborough   \n",
              "freq         1   5377     1                      18                  18   \n",
              "mean       NaN    NaN   NaN                     NaN                 NaN   \n",
              "std        NaN    NaN   NaN                     NaN                 NaN   \n",
              "min        NaN    NaN   NaN                     NaN                 NaN   \n",
              "25%        NaN    NaN   NaN                     NaN                 NaN   \n",
              "50%        NaN    NaN   NaN                     NaN                 NaN   \n",
              "75%        NaN    NaN   NaN                     NaN                 NaN   \n",
              "max        NaN    NaN   NaN                     NaN                 NaN   \n",
              "\n",
              "              country       date_added  release_year rating  duration  \\\n",
              "count            7280             7777   7787.000000   7780      7787   \n",
              "unique            681             1565           NaN     14       216   \n",
              "top     United States  January 1, 2020           NaN  TV-MA  1 Season   \n",
              "freq             2555              118           NaN   2863      1608   \n",
              "mean              NaN              NaN   2013.932580    NaN       NaN   \n",
              "std               NaN              NaN      8.757395    NaN       NaN   \n",
              "min               NaN              NaN   1925.000000    NaN       NaN   \n",
              "25%               NaN              NaN   2013.000000    NaN       NaN   \n",
              "50%               NaN              NaN   2017.000000    NaN       NaN   \n",
              "75%               NaN              NaN   2018.000000    NaN       NaN   \n",
              "max               NaN              NaN   2021.000000    NaN       NaN   \n",
              "\n",
              "            listed_in                                        description  \n",
              "count            7787                                               7787  \n",
              "unique            492                                               7769  \n",
              "top     Documentaries  Multiple women report their husbands as missin...  \n",
              "freq              334                                                  3  \n",
              "mean              NaN                                                NaN  \n",
              "std               NaN                                                NaN  \n",
              "min               NaN                                                NaN  \n",
              "25%               NaN                                                NaN  \n",
              "50%               NaN                                                NaN  \n",
              "75%               NaN                                                NaN  \n",
              "max               NaN                                                NaN  "
            ],
            "text/html": [
              "\n",
              "  <div id=\"df-6b9540bb-3a49-4d17-81b7-c7456ddfe1ca\">\n",
              "    <div class=\"colab-df-container\">\n",
              "      <div>\n",
              "<style scoped>\n",
              "    .dataframe tbody tr th:only-of-type {\n",
              "        vertical-align: middle;\n",
              "    }\n",
              "\n",
              "    .dataframe tbody tr th {\n",
              "        vertical-align: top;\n",
              "    }\n",
              "\n",
              "    .dataframe thead th {\n",
              "        text-align: right;\n",
              "    }\n",
              "</style>\n",
              "<table border=\"1\" class=\"dataframe\">\n",
              "  <thead>\n",
              "    <tr style=\"text-align: right;\">\n",
              "      <th></th>\n",
              "      <th>show_id</th>\n",
              "      <th>type</th>\n",
              "      <th>title</th>\n",
              "      <th>director</th>\n",
              "      <th>cast</th>\n",
              "      <th>country</th>\n",
              "      <th>date_added</th>\n",
              "      <th>release_year</th>\n",
              "      <th>rating</th>\n",
              "      <th>duration</th>\n",
              "      <th>listed_in</th>\n",
              "      <th>description</th>\n",
              "    </tr>\n",
              "  </thead>\n",
              "  <tbody>\n",
              "    <tr>\n",
              "      <th>count</th>\n",
              "      <td>7787</td>\n",
              "      <td>7787</td>\n",
              "      <td>7787</td>\n",
              "      <td>5398</td>\n",
              "      <td>7069</td>\n",
              "      <td>7280</td>\n",
              "      <td>7777</td>\n",
              "      <td>7787.000000</td>\n",
              "      <td>7780</td>\n",
              "      <td>7787</td>\n",
              "      <td>7787</td>\n",
              "      <td>7787</td>\n",
              "    </tr>\n",
              "    <tr>\n",
              "      <th>unique</th>\n",
              "      <td>7787</td>\n",
              "      <td>2</td>\n",
              "      <td>7787</td>\n",
              "      <td>4049</td>\n",
              "      <td>6831</td>\n",
              "      <td>681</td>\n",
              "      <td>1565</td>\n",
              "      <td>NaN</td>\n",
              "      <td>14</td>\n",
              "      <td>216</td>\n",
              "      <td>492</td>\n",
              "      <td>7769</td>\n",
              "    </tr>\n",
              "    <tr>\n",
              "      <th>top</th>\n",
              "      <td>s1</td>\n",
              "      <td>Movie</td>\n",
              "      <td>3%</td>\n",
              "      <td>Raúl Campos, Jan Suter</td>\n",
              "      <td>David Attenborough</td>\n",
              "      <td>United States</td>\n",
              "      <td>January 1, 2020</td>\n",
              "      <td>NaN</td>\n",
              "      <td>TV-MA</td>\n",
              "      <td>1 Season</td>\n",
              "      <td>Documentaries</td>\n",
              "      <td>Multiple women report their husbands as missin...</td>\n",
              "    </tr>\n",
              "    <tr>\n",
              "      <th>freq</th>\n",
              "      <td>1</td>\n",
              "      <td>5377</td>\n",
              "      <td>1</td>\n",
              "      <td>18</td>\n",
              "      <td>18</td>\n",
              "      <td>2555</td>\n",
              "      <td>118</td>\n",
              "      <td>NaN</td>\n",
              "      <td>2863</td>\n",
              "      <td>1608</td>\n",
              "      <td>334</td>\n",
              "      <td>3</td>\n",
              "    </tr>\n",
              "    <tr>\n",
              "      <th>mean</th>\n",
              "      <td>NaN</td>\n",
              "      <td>NaN</td>\n",
              "      <td>NaN</td>\n",
              "      <td>NaN</td>\n",
              "      <td>NaN</td>\n",
              "      <td>NaN</td>\n",
              "      <td>NaN</td>\n",
              "      <td>2013.932580</td>\n",
              "      <td>NaN</td>\n",
              "      <td>NaN</td>\n",
              "      <td>NaN</td>\n",
              "      <td>NaN</td>\n",
              "    </tr>\n",
              "    <tr>\n",
              "      <th>std</th>\n",
              "      <td>NaN</td>\n",
              "      <td>NaN</td>\n",
              "      <td>NaN</td>\n",
              "      <td>NaN</td>\n",
              "      <td>NaN</td>\n",
              "      <td>NaN</td>\n",
              "      <td>NaN</td>\n",
              "      <td>8.757395</td>\n",
              "      <td>NaN</td>\n",
              "      <td>NaN</td>\n",
              "      <td>NaN</td>\n",
              "      <td>NaN</td>\n",
              "    </tr>\n",
              "    <tr>\n",
              "      <th>min</th>\n",
              "      <td>NaN</td>\n",
              "      <td>NaN</td>\n",
              "      <td>NaN</td>\n",
              "      <td>NaN</td>\n",
              "      <td>NaN</td>\n",
              "      <td>NaN</td>\n",
              "      <td>NaN</td>\n",
              "      <td>1925.000000</td>\n",
              "      <td>NaN</td>\n",
              "      <td>NaN</td>\n",
              "      <td>NaN</td>\n",
              "      <td>NaN</td>\n",
              "    </tr>\n",
              "    <tr>\n",
              "      <th>25%</th>\n",
              "      <td>NaN</td>\n",
              "      <td>NaN</td>\n",
              "      <td>NaN</td>\n",
              "      <td>NaN</td>\n",
              "      <td>NaN</td>\n",
              "      <td>NaN</td>\n",
              "      <td>NaN</td>\n",
              "      <td>2013.000000</td>\n",
              "      <td>NaN</td>\n",
              "      <td>NaN</td>\n",
              "      <td>NaN</td>\n",
              "      <td>NaN</td>\n",
              "    </tr>\n",
              "    <tr>\n",
              "      <th>50%</th>\n",
              "      <td>NaN</td>\n",
              "      <td>NaN</td>\n",
              "      <td>NaN</td>\n",
              "      <td>NaN</td>\n",
              "      <td>NaN</td>\n",
              "      <td>NaN</td>\n",
              "      <td>NaN</td>\n",
              "      <td>2017.000000</td>\n",
              "      <td>NaN</td>\n",
              "      <td>NaN</td>\n",
              "      <td>NaN</td>\n",
              "      <td>NaN</td>\n",
              "    </tr>\n",
              "    <tr>\n",
              "      <th>75%</th>\n",
              "      <td>NaN</td>\n",
              "      <td>NaN</td>\n",
              "      <td>NaN</td>\n",
              "      <td>NaN</td>\n",
              "      <td>NaN</td>\n",
              "      <td>NaN</td>\n",
              "      <td>NaN</td>\n",
              "      <td>2018.000000</td>\n",
              "      <td>NaN</td>\n",
              "      <td>NaN</td>\n",
              "      <td>NaN</td>\n",
              "      <td>NaN</td>\n",
              "    </tr>\n",
              "    <tr>\n",
              "      <th>max</th>\n",
              "      <td>NaN</td>\n",
              "      <td>NaN</td>\n",
              "      <td>NaN</td>\n",
              "      <td>NaN</td>\n",
              "      <td>NaN</td>\n",
              "      <td>NaN</td>\n",
              "      <td>NaN</td>\n",
              "      <td>2021.000000</td>\n",
              "      <td>NaN</td>\n",
              "      <td>NaN</td>\n",
              "      <td>NaN</td>\n",
              "      <td>NaN</td>\n",
              "    </tr>\n",
              "  </tbody>\n",
              "</table>\n",
              "</div>\n",
              "      <button class=\"colab-df-convert\" onclick=\"convertToInteractive('df-6b9540bb-3a49-4d17-81b7-c7456ddfe1ca')\"\n",
              "              title=\"Convert this dataframe to an interactive table.\"\n",
              "              style=\"display:none;\">\n",
              "        \n",
              "  <svg xmlns=\"http://www.w3.org/2000/svg\" height=\"24px\"viewBox=\"0 0 24 24\"\n",
              "       width=\"24px\">\n",
              "    <path d=\"M0 0h24v24H0V0z\" fill=\"none\"/>\n",
              "    <path d=\"M18.56 5.44l.94 2.06.94-2.06 2.06-.94-2.06-.94-.94-2.06-.94 2.06-2.06.94zm-11 1L8.5 8.5l.94-2.06 2.06-.94-2.06-.94L8.5 2.5l-.94 2.06-2.06.94zm10 10l.94 2.06.94-2.06 2.06-.94-2.06-.94-.94-2.06-.94 2.06-2.06.94z\"/><path d=\"M17.41 7.96l-1.37-1.37c-.4-.4-.92-.59-1.43-.59-.52 0-1.04.2-1.43.59L10.3 9.45l-7.72 7.72c-.78.78-.78 2.05 0 2.83L4 21.41c.39.39.9.59 1.41.59.51 0 1.02-.2 1.41-.59l7.78-7.78 2.81-2.81c.8-.78.8-2.07 0-2.86zM5.41 20L4 18.59l7.72-7.72 1.47 1.35L5.41 20z\"/>\n",
              "  </svg>\n",
              "      </button>\n",
              "      \n",
              "  <style>\n",
              "    .colab-df-container {\n",
              "      display:flex;\n",
              "      flex-wrap:wrap;\n",
              "      gap: 12px;\n",
              "    }\n",
              "\n",
              "    .colab-df-convert {\n",
              "      background-color: #E8F0FE;\n",
              "      border: none;\n",
              "      border-radius: 50%;\n",
              "      cursor: pointer;\n",
              "      display: none;\n",
              "      fill: #1967D2;\n",
              "      height: 32px;\n",
              "      padding: 0 0 0 0;\n",
              "      width: 32px;\n",
              "    }\n",
              "\n",
              "    .colab-df-convert:hover {\n",
              "      background-color: #E2EBFA;\n",
              "      box-shadow: 0px 1px 2px rgba(60, 64, 67, 0.3), 0px 1px 3px 1px rgba(60, 64, 67, 0.15);\n",
              "      fill: #174EA6;\n",
              "    }\n",
              "\n",
              "    [theme=dark] .colab-df-convert {\n",
              "      background-color: #3B4455;\n",
              "      fill: #D2E3FC;\n",
              "    }\n",
              "\n",
              "    [theme=dark] .colab-df-convert:hover {\n",
              "      background-color: #434B5C;\n",
              "      box-shadow: 0px 1px 3px 1px rgba(0, 0, 0, 0.15);\n",
              "      filter: drop-shadow(0px 1px 2px rgba(0, 0, 0, 0.3));\n",
              "      fill: #FFFFFF;\n",
              "    }\n",
              "  </style>\n",
              "\n",
              "      <script>\n",
              "        const buttonEl =\n",
              "          document.querySelector('#df-6b9540bb-3a49-4d17-81b7-c7456ddfe1ca button.colab-df-convert');\n",
              "        buttonEl.style.display =\n",
              "          google.colab.kernel.accessAllowed ? 'block' : 'none';\n",
              "\n",
              "        async function convertToInteractive(key) {\n",
              "          const element = document.querySelector('#df-6b9540bb-3a49-4d17-81b7-c7456ddfe1ca');\n",
              "          const dataTable =\n",
              "            await google.colab.kernel.invokeFunction('convertToInteractive',\n",
              "                                                     [key], {});\n",
              "          if (!dataTable) return;\n",
              "\n",
              "          const docLinkHtml = 'Like what you see? Visit the ' +\n",
              "            '<a target=\"_blank\" href=https://colab.research.google.com/notebooks/data_table.ipynb>data table notebook</a>'\n",
              "            + ' to learn more about interactive tables.';\n",
              "          element.innerHTML = '';\n",
              "          dataTable['output_type'] = 'display_data';\n",
              "          await google.colab.output.renderOutput(dataTable, element);\n",
              "          const docLink = document.createElement('div');\n",
              "          docLink.innerHTML = docLinkHtml;\n",
              "          element.appendChild(docLink);\n",
              "        }\n",
              "      </script>\n",
              "    </div>\n",
              "  </div>\n",
              "  "
            ]
          },
          "metadata": {},
          "execution_count": 9
        }
      ]
    },
    {
      "cell_type": "markdown",
      "source": [
        "**Data Cleaning**"
      ],
      "metadata": {
        "id": "5UMv6BRhpw5F"
      }
    },
    {
      "cell_type": "code",
      "source": [
        "# For missing data\n",
        "netflix_df.isnull().sum()"
      ],
      "metadata": {
        "colab": {
          "base_uri": "https://localhost:8080/"
        },
        "id": "AITrQtBppzfy",
        "outputId": "b82bebd2-ac0d-472f-de3b-0e4c52330ec8"
      },
      "execution_count": 10,
      "outputs": [
        {
          "output_type": "execute_result",
          "data": {
            "text/plain": [
              "show_id            0\n",
              "type               0\n",
              "title              0\n",
              "director        2389\n",
              "cast             718\n",
              "country          507\n",
              "date_added        10\n",
              "release_year       0\n",
              "rating             7\n",
              "duration           0\n",
              "listed_in          0\n",
              "description        0\n",
              "dtype: int64"
            ]
          },
          "metadata": {},
          "execution_count": 10
        }
      ]
    },
    {
      "cell_type": "markdown",
      "source": [
        "There are 2389 null values in director, 718 null values in cast, 507 null values in country, 10 null values in date_added, 7 null values in rating."
      ],
      "metadata": {
        "id": "MsH-xQsNp5Sj"
      }
    },
    {
      "cell_type": "code",
      "source": [
        "# drops NaN values from date_added, rating\n",
        "# filling director, cast, country - NaN values with No Director, No Cast, Country Not Available respectively.\n",
        "# Due to the high number of null values in director, cast, and country, dropping them would lead to imbalanced data \n",
        "# and incorrect EDA analysis. Therefore, they are retained.\n",
        "\n",
        "netflix_df['director'].fillna('No Director', inplace=True)\n",
        "netflix_df['cast'].fillna('No Cast', inplace=True)\n",
        "netflix_df['country'].fillna('Country Not Available', inplace=True)\n",
        "netflix_df.dropna(subset=['date_added','rating'],inplace=True)\n",
        "netflix_df = netflix_df.reset_index(drop=True)"
      ],
      "metadata": {
        "id": "y-NwLxx4rZgG"
      },
      "execution_count": 11,
      "outputs": []
    },
    {
      "cell_type": "markdown",
      "source": [
        "SIDE NOTE:\n",
        "\n",
        "Instead of dropping all Nan values, only date_added and rating Nan values are removed. Dropping director, cast, and country Nan values would have resulted in a significant loss of data."
      ],
      "metadata": {
        "id": "q0x2MP4Zrlhy"
      }
    },
    {
      "cell_type": "code",
      "source": [
        "# Updated dataframe\n",
        "netflix_df.shape"
      ],
      "metadata": {
        "colab": {
          "base_uri": "https://localhost:8080/"
        },
        "id": "8rbe2wf9r2bv",
        "outputId": "fd6b9a55-6c38-47e0-e312-3c7016ff7424"
      },
      "execution_count": 12,
      "outputs": [
        {
          "output_type": "execute_result",
          "data": {
            "text/plain": [
              "(7770, 12)"
            ]
          },
          "metadata": {},
          "execution_count": 12
        }
      ]
    },
    {
      "cell_type": "code",
      "source": [
        "# Rechecking for clean data.\n",
        "netflix_df.isnull().sum()"
      ],
      "metadata": {
        "colab": {
          "base_uri": "https://localhost:8080/"
        },
        "id": "aH_IntKfsAWh",
        "outputId": "313e40c1-bb62-4cf9-ab0a-dc9adcd72330"
      },
      "execution_count": 13,
      "outputs": [
        {
          "output_type": "execute_result",
          "data": {
            "text/plain": [
              "show_id         0\n",
              "type            0\n",
              "title           0\n",
              "director        0\n",
              "cast            0\n",
              "country         0\n",
              "date_added      0\n",
              "release_year    0\n",
              "rating          0\n",
              "duration        0\n",
              "listed_in       0\n",
              "description     0\n",
              "dtype: int64"
            ]
          },
          "metadata": {},
          "execution_count": 13
        }
      ]
    },
    {
      "cell_type": "code",
      "source": [
        "#Checking Unique values in each variable\n",
        "netflix_df.nunique()"
      ],
      "metadata": {
        "colab": {
          "base_uri": "https://localhost:8080/"
        },
        "id": "HV-nj6dvsN3Y",
        "outputId": "a289f462-ab56-4aec-9665-ed8fab85eed6"
      },
      "execution_count": 14,
      "outputs": [
        {
          "output_type": "execute_result",
          "data": {
            "text/plain": [
              "show_id         7770\n",
              "type               2\n",
              "title           7770\n",
              "director        4048\n",
              "cast            6818\n",
              "country          682\n",
              "date_added      1563\n",
              "release_year      73\n",
              "rating            14\n",
              "duration         216\n",
              "listed_in        491\n",
              "description     7752\n",
              "dtype: int64"
            ]
          },
          "metadata": {},
          "execution_count": 14
        }
      ]
    },
    {
      "cell_type": "markdown",
      "source": [
        "A show_id is a unique identifier, and no title is repeated. A number of unique values are also contained in director, cast, country, date_added, listed_in, and description."
      ],
      "metadata": {
        "id": "HAZNH2AvsrCA"
      }
    },
    {
      "cell_type": "markdown",
      "source": [
        "###**Exploratory Data Analysis**"
      ],
      "metadata": {
        "id": "-9v2dL3C7tI3"
      }
    },
    {
      "cell_type": "code",
      "source": [
        "# Netflix Film Types: Movie or TV Show\n",
        "sns.countplot(x=\"type\", data=netflix_df)\n",
        "plt.title(\"Count of Movies and TV Shows\", fontsize=14)"
      ],
      "metadata": {
        "colab": {
          "base_uri": "https://localhost:8080/",
          "height": 314
        },
        "id": "8MQYprgd7uCn",
        "outputId": "208597a0-0cda-48e5-edae-e32bed75915b"
      },
      "execution_count": 15,
      "outputs": [
        {
          "output_type": "execute_result",
          "data": {
            "text/plain": [
              "Text(0.5, 1.0, 'Count of Movies and TV Shows')"
            ]
          },
          "metadata": {},
          "execution_count": 15
        },
        {
          "output_type": "display_data",
          "data": {
            "text/plain": [
              "<Figure size 432x288 with 1 Axes>"
            ],
            "image/png": "[encoded data removed]"
          },
          "metadata": {
            "needs_background": "light"
          }
        }
      ]
    },
    {
      "cell_type": "code",
      "source": [
        "# Pie Chart Representation - Netflix Film Types: Movie or TV Show\n",
        "plt.pie(netflix_df.type.value_counts(),labels=[\"Movies\",\"TV Shows\"],autopct=\"%1.2f%%\")\n",
        "plt.title(\"Pie representation of Movies and TV Shows\", fontsize=14)"
      ],
      "metadata": {
        "colab": {
          "base_uri": "https://localhost:8080/",
          "height": 283
        },
        "id": "9XFRQ_M29KBC",
        "outputId": "cb761bdb-e8b9-4545-e398-592b843cf9f3"
      },
      "execution_count": 16,
      "outputs": [
        {
          "output_type": "execute_result",
          "data": {
            "text/plain": [
              "Text(0.5, 1.0, 'Pie representation of Movies and TV Shows')"
            ]
          },
          "metadata": {},
          "execution_count": 16
        },
        {
          "output_type": "display_data",
          "data": {
            "text/plain": [
              "<Figure size 432x288 with 1 Axes>"
            ],
            "image/png": "[encoded data removed]"
          },
          "metadata": {}
        }
      ]
    },
    {
      "cell_type": "markdown",
      "source": [
        "OBSERVATION:\n",
        "\n",
        "There are more than 5000+ movies and 2000+ TV shows.It should be noted that a TV Show has at least one season with many episodes, so the TV Shows count being less than Movies is logical."
      ],
      "metadata": {
        "id": "Od_qXsG57_T7"
      }
    },
    {
      "cell_type": "code",
      "source": [
        "# Netflix Film Ratings\n",
        "plt.figure(figsize=(15,7))\n",
        "sns.countplot(x=\"rating\", data=netflix_df, hue='type')\n",
        "plt.title(\"Ratings for Movies & TV Shows\", fontsize=14)"
      ],
      "metadata": {
        "colab": {
          "base_uri": "https://localhost:8080/",
          "height": 477
        },
        "id": "pwPyiMnt_ljQ",
        "outputId": "7188f140-cada-4f91-a6cc-8820452f4a00"
      },
      "execution_count": 17,
      "outputs": [
        {
          "output_type": "execute_result",
          "data": {
            "text/plain": [
              "Text(0.5, 1.0, 'Ratings for Movies & TV Shows')"
            ]
          },
          "metadata": {},
          "execution_count": 17
        },
        {
          "output_type": "display_data",
          "data": {
            "text/plain": [
              "<Figure size 1080x504 with 1 Axes>"
            ],
            "image/png": "[encoded data removed]"
          },
          "metadata": {
            "needs_background": "light"
          }
        }
      ]
    },
    {
      "cell_type": "markdown",
      "source": [
        "OBSERVATION:\n",
        "\n",
        "The NR and UR stand for Non-Rated and UnRated content, so they could be ignored. The number of mature content movies is greater than the number of mature content TV shows. The majority of TV shows are geared toward younger viewers."
      ],
      "metadata": {
        "id": "MFRZrDkE_0Jw"
      }
    },
    {
      "cell_type": "code",
      "source": [
        "# Extracting month and year from date.\n",
        "netflix_df1 = netflix_df.copy()\n",
        "netflix_df1['date_added'] = pd.to_datetime(netflix_df1['date_added'])\n",
        "netflix_df1['month_added'] = netflix_df1['date_added'].dt.month\n",
        "netflix_df1['year_added'] = netflix_df1['date_added'].dt.year"
      ],
      "metadata": {
        "id": "NuWjY47KAGaR"
      },
      "execution_count": 18,
      "outputs": []
    },
    {
      "cell_type": "code",
      "source": [
        "# Plotting year vs month on heatmap.\n",
        "plt.figure(figsize = (25, 6))\n",
        "sns.heatmap(netflix_df1.groupby('year_added').month_added.value_counts().unstack().fillna(0).T, cmap = 'coolwarm', annot = True)\n",
        "plt.title(\"Heatmap - year_added and month_added\")"
      ],
      "metadata": {
        "colab": {
          "base_uri": "https://localhost:8080/",
          "height": 387
        },
        "id": "A1bClN1HAr7t",
        "outputId": "65e39084-8fb8-41a7-f2ac-8cd6788d5ac3"
      },
      "execution_count": 19,
      "outputs": [
        {
          "output_type": "execute_result",
          "data": {
            "text/plain": [
              "Text(0.5, 1.0, 'Heatmap - year_added and month_added')"
            ]
          },
          "metadata": {},
          "execution_count": 19
        },
        {
          "output_type": "display_data",
          "data": {
            "text/plain": [
              "<Figure size 1800x432 with 2 Axes>"
            ],
            "image/png": "[encoded data removed]"
          },
          "metadata": {
            "needs_background": "light"
          }
        }
      ]
    },
    {
      "cell_type": "markdown",
      "source": [
        "OBSERVATION:\n",
        "\n",
        "From 2014 the number of shows have increased. The data given to us stops at 2021 January."
      ],
      "metadata": {
        "id": "9yVwRcnZBF6l"
      }
    },
    {
      "cell_type": "code",
      "source": [
        "# Amount of Content as a Function of Time\n",
        "netflix_year = netflix_df1.release_year.value_counts().to_frame().reset_index().rename(columns={'index': 'year','release_year':'count'})\n",
        "total_year = netflix_year[netflix_year.year != 2021]\n",
        "netflix_movie_year = netflix_df1[netflix_df1['type'] == 'Movie'].release_year.value_counts().to_frame().reset_index().rename(columns={'index': 'year','release_year':'count'})\n",
        "movie_year = netflix_movie_year[netflix_movie_year.year!= 2021]\n",
        "netflix_tvshow_year = netflix_df1[netflix_df1['type'] == 'TV Show'].release_year.value_counts().to_frame().reset_index().rename(columns={'index': 'year','release_year':'count'})\n",
        "tvshow_year = netflix_tvshow_year[netflix_tvshow_year.year!= 2021]\n",
        "\n",
        "plt.figure(figsize = (10, 5))\n",
        "sns.lineplot(data=total_year, x='year', y='count')\n",
        "sns.lineplot(data=movie_year, x='year', y='count')\n",
        "sns.lineplot(data=tvshow_year, x='year', y='count')\n",
        "plt.title('Total content added across all years (up to 2020)')\n",
        "plt.ylabel('Releases')\n",
        "plt.xlabel('Year')\n",
        "plt.legend(['Total','Movie','TV Show'])"
      ],
      "metadata": {
        "colab": {
          "base_uri": "https://localhost:8080/",
          "height": 368
        },
        "id": "HfqZlcX7Ozs5",
        "outputId": "9fe26df3-7a55-4857-ce55-5a9905c41675"
      },
      "execution_count": 20,
      "outputs": [
        {
          "output_type": "execute_result",
          "data": {
            "text/plain": [
              "<matplotlib.legend.Legend at 0x7fcff6470310>"
            ]
          },
          "metadata": {},
          "execution_count": 20
        },
        {
          "output_type": "display_data",
          "data": {
            "text/plain": [
              "<Figure size 720x360 with 1 Axes>"
            ],
            "image/png": "[encoded data removed]"
          },
          "metadata": {
            "needs_background": "light"
          }
        }
      ]
    },
    {
      "cell_type": "markdown",
      "source": [
        "OBSERVATION:\n",
        "\n",
        "The number of movies in 2020 have reduced compared to its previous year. However the TV shows have increased."
      ],
      "metadata": {
        "id": "r3MMaUKHPJfR"
      }
    },
    {
      "cell_type": "code",
      "source": [
        "# Netflix Film Duration\n",
        "fig, ax = plt.subplots(1,2, figsize=(19, 5))\n",
        "show_duration_df = pd.DataFrame(netflix_df1[netflix_df1.type == 'TV Show'].duration.replace(['1 Season'], '1 Seasons').str.replace(' Seasons','').sort_values()).astype(int)\n",
        "plt1 = sns.countplot(data = show_duration_df, x = 'duration', order = list(range(1,10)), ax=ax[0])\n",
        "plt1.set_xlabel('seasons')\n",
        "plt1.set_title(\"Netflix TV Shows Seasons\")\n",
        "movie_duration_df = pd.DataFrame(netflix_df1[netflix_df1.type == 'Movie'].duration.str.replace(' min', '').astype(int))\n",
        "plt2 = sns.distplot(movie_duration_df.duration, ax=ax[1])\n",
        "plt2.set_title(\"Duration Distribution for Netflix Movies\")"
      ],
      "metadata": {
        "colab": {
          "base_uri": "https://localhost:8080/",
          "height": 368
        },
        "id": "wOkIMn_4X74B",
        "outputId": "42113545-9991-4835-d909-2d07f1d7d05d"
      },
      "execution_count": 21,
      "outputs": [
        {
          "output_type": "execute_result",
          "data": {
            "text/plain": [
              "Text(0.5, 1.0, 'Duration Distribution for Netflix Movies')"
            ]
          },
          "metadata": {},
          "execution_count": 21
        },
        {
          "output_type": "display_data",
          "data": {
            "text/plain": [
              "<Figure size 1368x360 with 2 Axes>"
            ],
            "image/png": "[encoded data removed]"
          },
          "metadata": {
            "needs_background": "light"
          }
        }
      ]
    },
    {
      "cell_type": "markdown",
      "source": [
        "OBSERVATION:\n",
        "\n",
        "Seasons of Netflix TV shows are right-skewed and most have only one season. Netflix movies have a normal distribution with a mean of 100 minutes."
      ],
      "metadata": {
        "id": "PdNdSVNkYNwy"
      }
    },
    {
      "cell_type": "code",
      "source": [
        "# Countries with the most content available\n",
        "countries = netflix_df1['country'].str.split(', ', expand=True).stack().reset_index(level = 1, drop = True)\n",
        "countries = countries[countries != 'Country Not available']\n",
        "plt.figure(figsize = (10, 10))\n",
        "sns.countplot(y = countries, order=countries.value_counts().index[:20])\n",
        "plt.title('Top 20 Countries on Netflix')\n",
        "plt.ylabel('Country')"
      ],
      "metadata": {
        "colab": {
          "base_uri": "https://localhost:8080/",
          "height": 639
        },
        "id": "LdJTC1-xYcwN",
        "outputId": "21ffe923-61d8-4a68-f6b4-982e2311f1bc"
      },
      "execution_count": 22,
      "outputs": [
        {
          "output_type": "execute_result",
          "data": {
            "text/plain": [
              "Text(0, 0.5, 'Country')"
            ]
          },
          "metadata": {},
          "execution_count": 22
        },
        {
          "output_type": "display_data",
          "data": {
            "text/plain": [
              "<Figure size 720x720 with 1 Axes>"
            ],
            "image/png": "[encoded data removed]"
          },
          "metadata": {
            "needs_background": "light"
          }
        }
      ]
    },
    {
      "cell_type": "markdown",
      "source": [
        "OBSERVATION:\n",
        "\n",
        "Considering that Netflix is an American brand, it is no surprise that the United States is the most popular country to watch Netflix in. In second place is India, followed by the UK and Canada. "
      ],
      "metadata": {
        "id": "3NKv2G4oY-Wi"
      }
    },
    {
      "cell_type": "code",
      "source": [
        "# Popular Genres\n",
        "genres = netflix_df1['listed_in'].str.split(', ', expand=True).stack().reset_index(level = 1, drop = True)\n",
        "plt.figure(figsize = (10, 10))\n",
        "sns.countplot(y = genres, order=genres.value_counts().index[:20])\n",
        "plt.title('Top 20 genres on Netflix')\n",
        "plt.ylabel('genres')"
      ],
      "metadata": {
        "colab": {
          "base_uri": "https://localhost:8080/",
          "height": 639
        },
        "id": "r33KcJytZefy",
        "outputId": "385a19b9-f6bb-4e78-a8dd-181d2ae55543"
      },
      "execution_count": 23,
      "outputs": [
        {
          "output_type": "execute_result",
          "data": {
            "text/plain": [
              "Text(0, 0.5, 'genres')"
            ]
          },
          "metadata": {},
          "execution_count": 23
        },
        {
          "output_type": "display_data",
          "data": {
            "text/plain": [
              "<Figure size 720x720 with 1 Axes>"
            ],
            "image/png": "[encoded data removed]"
          },
          "metadata": {
            "needs_background": "light"
          }
        }
      ]
    },
    {
      "cell_type": "markdown",
      "source": [
        "OBSERVATION:\n",
        "\n",
        "On Netflix, international movies are the most popular genre, followed by dramas and comedies. With Netflix having a lot of international subscribers, it makes sense to have international movies at the top."
      ],
      "metadata": {
        "id": "8vKeTxFaZxco"
      }
    },
    {
      "cell_type": "code",
      "source": [
        "# top 10 directors on Netflix with the most releases\n",
        "director = netflix_df1['director'].str.split(', ', expand=True).stack().reset_index(level = 1, drop = True)\n",
        "director = director[director != 'No Director']\n",
        "plt.figure(figsize = (5, 5))\n",
        "sns.countplot(y = director, order=director.value_counts().index[:10])\n",
        "plt.title('Top 10 director on Netflix')\n",
        "plt.ylabel('director')"
      ],
      "metadata": {
        "colab": {
          "base_uri": "https://localhost:8080/",
          "height": 368
        },
        "id": "o0f08iAuZ0gj",
        "outputId": "9d9a253c-a511-4ef6-d287-4ac4ab6acbc7"
      },
      "execution_count": 24,
      "outputs": [
        {
          "output_type": "execute_result",
          "data": {
            "text/plain": [
              "Text(0, 0.5, 'director')"
            ]
          },
          "metadata": {},
          "execution_count": 24
        },
        {
          "output_type": "display_data",
          "data": {
            "text/plain": [
              "<Figure size 360x360 with 1 Axes>"
            ],
            "image/png": "[encoded data removed]"
          },
          "metadata": {
            "needs_background": "light"
          }
        }
      ]
    },
    {
      "cell_type": "markdown",
      "source": [
        "OBSERVATION:\n",
        "\n",
        "The number of international movies is higher, so it should come as no surprise that the most movie directors are internatinal. "
      ],
      "metadata": {
        "id": "N3WrXIYBaHoi"
      }
    },
    {
      "cell_type": "code",
      "source": [
        "# top 10 actors on Netflix based on number of titles\n",
        "cast = netflix_df1[netflix_df1['cast'] != 'No Cast'].cast.str.split(', ', expand = True).stack().reset_index(level = 1, drop = True)\n",
        "plt.figure(figsize = (5, 5))\n",
        "sns.countplot(y = cast, order=cast.value_counts().index[:10])\n",
        "plt.title('Top 10 cast on Netflix')\n",
        "plt.ylabel('cast')"
      ],
      "metadata": {
        "colab": {
          "base_uri": "https://localhost:8080/",
          "height": 368
        },
        "id": "zujYkYbgaNEc",
        "outputId": "e57577ce-c086-4479-cae3-ccf66d9e68fb"
      },
      "execution_count": 25,
      "outputs": [
        {
          "output_type": "execute_result",
          "data": {
            "text/plain": [
              "Text(0, 0.5, 'cast')"
            ]
          },
          "metadata": {},
          "execution_count": 25
        },
        {
          "output_type": "display_data",
          "data": {
            "text/plain": [
              "<Figure size 360x360 with 1 Axes>"
            ],
            "image/png": "[encoded data removed]"
          },
          "metadata": {
            "needs_background": "light"
          }
        }
      ]
    },
    {
      "cell_type": "markdown",
      "source": [
        "OBSERVATION:\n",
        "\n",
        "Top actors are mainly international actors implying that Netflix has many international subscribers."
      ],
      "metadata": {
        "id": "iUGNyYzNvGFP"
      }
    },
    {
      "cell_type": "code",
      "source": [
        "# International Content across years.\n",
        "international_movies = netflix_df1[netflix_df1['listed_in'].str.contains('International Movies')]\n",
        "international_movies = pd.DataFrame(international_movies['release_year'].value_counts()).reset_index().rename(columns={'index': 'year','release_year':'count'})\n",
        "international_movies = international_movies[international_movies.year != 2021]\n",
        "\n",
        "international_tvshow = netflix_df1[netflix_df1['listed_in'].str.contains('International TV Shows')]\n",
        "international_tvshow = pd.DataFrame(international_tvshow['release_year'].value_counts()).reset_index().rename(columns={'index': 'year','release_year':'count'})\n",
        "international_tvshow = international_tvshow[international_tvshow.year != 2021]\n",
        "\n",
        "sns.lineplot(data=international_movies, x='year', y='count')\n",
        "sns.lineplot(data=international_tvshow, x='year', y='count')\n",
        "plt.title(\"International content across all years (up to 2020)\")\n",
        "plt.legend(['International Movies','International TV Shows'])"
      ],
      "metadata": {
        "colab": {
          "base_uri": "https://localhost:8080/",
          "height": 313
        },
        "id": "JD0eZ2ABvA2O",
        "outputId": "207a2eed-c636-495d-e8f3-f1fdc22d8b1f"
      },
      "execution_count": 26,
      "outputs": [
        {
          "output_type": "execute_result",
          "data": {
            "text/plain": [
              "<matplotlib.legend.Legend at 0x7fcff196db50>"
            ]
          },
          "metadata": {},
          "execution_count": 26
        },
        {
          "output_type": "display_data",
          "data": {
            "text/plain": [
              "<Figure size 432x288 with 1 Axes>"
            ],
            "image/png": "[encoded data removed]"
          },
          "metadata": {
            "needs_background": "light"
          }
        }
      ]
    },
    {
      "cell_type": "markdown",
      "source": [
        "OBDERVATION:\n",
        "\n",
        "More international movies are released than international television shows. The growth of international movies started to decline in 2018 and international TV shows started to decline in 2019."
      ],
      "metadata": {
        "id": "1q6JfWQBvpym"
      }
    },
    {
      "cell_type": "markdown",
      "source": [
        "SUMMARY SO FAR:\n",
        "\n",
        "1. The most content type on Netflix is movies.\n",
        "2. The largest count of Netflix content is made with a 'TV-MA' rating.\n",
        "3. After 2014 the amount of content added has been increasing significantly.\n",
        "4. The number of movies in 2020 have reduced compared to its previous year. The TV shows have also decreased in 2020.\n",
        "5. While most TV seasons have only 1 season, movie lengths follow a normal distribution with a mean of 100 minutes.\n",
        "6. According to the amount of content produced, the United States is the top country.\n",
        "7. International Movies are a genre mostly found on Netflix.\n",
        "8. In terms of titles, Jan Suter is the most popular director on Netflix.\n",
        "9. Anupam Kher is the most popular Netflix cast member, according to number of movies made."
      ],
      "metadata": {
        "id": "83JNT43WpJM1"
      }
    },
    {
      "cell_type": "markdown",
      "source": [
        "### Understanding what type content is available in different countries"
      ],
      "metadata": {
        "id": "2HZh9PvJ2Ys-"
      }
    },
    {
      "cell_type": "markdown",
      "source": [
        "For a detailed analysis, I would enter a single country from the list of more than 100 countries available in the dataset."
      ],
      "metadata": {
        "id": "N99G8k_uXQec"
      }
    },
    {
      "cell_type": "code",
      "source": [
        "# Installing pyLDAvis.\n",
        "!pip install pyLDAvis"
      ],
      "metadata": {
        "colab": {
          "base_uri": "https://localhost:8080/"
        },
        "id": "ib2f6_Dk8Ffn",
        "outputId": "b47691c6-5080-4d2d-8c2b-ca60f2b781f2"
      },
      "execution_count": 28,
      "outputs": [
        {
          "output_type": "stream",
          "name": "stdout",
          "text": [
            "Looking in indexes: https://pypi.org/simple, https://us-python.pkg.dev/colab-wheels/public/simple/\n",
            "Collecting pyLDAvis\n",
            "  Downloading pyLDAvis-3.3.1.tar.gz (1.7 MB)\n",
            "\u001b[K     |████████████████████████████████| 1.7 MB 4.1 MB/s \n",
            "\u001b[?25h  Installing build dependencies ... \u001b[?25l\u001b[?25hdone\n",
            "  Getting requirements to build wheel ... \u001b[?25l\u001b[?25hdone\n",
            "  Installing backend dependencies ... \u001b[?25l\u001b[?25hdone\n",
            "    Preparing wheel metadata ... \u001b[?25l\u001b[?25hdone\n",
            "Collecting funcy\n",
            "  Downloading funcy-1.17-py2.py3-none-any.whl (33 kB)\n",
            "Requirement already satisfied: gensim in /usr/local/lib/python3.7/dist-packages (from pyLDAvis) (3.6.0)\n",
            "Requirement already satisfied: scipy in /usr/local/lib/python3.7/dist-packages (from pyLDAvis) (1.7.3)\n",
            "Requirement already satisfied: joblib in /usr/local/lib/python3.7/dist-packages (from pyLDAvis) (1.1.0)\n",
            "Requirement already satisfied: numexpr in /usr/local/lib/python3.7/dist-packages (from pyLDAvis) (2.8.3)\n",
            "Requirement already satisfied: jinja2 in /usr/local/lib/python3.7/dist-packages (from pyLDAvis) (2.11.3)\n",
            "Requirement already satisfied: scikit-learn in /usr/local/lib/python3.7/dist-packages (from pyLDAvis) (1.0.2)\n",
            "Requirement already satisfied: numpy>=1.20.0 in /usr/local/lib/python3.7/dist-packages (from pyLDAvis) (1.21.6)\n",
            "Collecting sklearn\n",
            "  Downloading sklearn-0.0.tar.gz (1.1 kB)\n",
            "Requirement already satisfied: pandas>=1.2.0 in /usr/local/lib/python3.7/dist-packages (from pyLDAvis) (1.3.5)\n",
            "Requirement already satisfied: setuptools in /usr/local/lib/python3.7/dist-packages (from pyLDAvis) (57.4.0)\n",
            "Requirement already satisfied: future in /usr/local/lib/python3.7/dist-packages (from pyLDAvis) (0.16.0)\n",
            "Requirement already satisfied: python-dateutil>=2.7.3 in /usr/local/lib/python3.7/dist-packages (from pandas>=1.2.0->pyLDAvis) (2.8.2)\n",
            "Requirement already satisfied: pytz>=2017.3 in /usr/local/lib/python3.7/dist-packages (from pandas>=1.2.0->pyLDAvis) (2022.2.1)\n",
            "Requirement already satisfied: six>=1.5 in /usr/local/lib/python3.7/dist-packages (from python-dateutil>=2.7.3->pandas>=1.2.0->pyLDAvis) (1.15.0)\n",
            "Requirement already satisfied: smart-open>=1.2.1 in /usr/local/lib/python3.7/dist-packages (from gensim->pyLDAvis) (5.2.1)\n",
            "Requirement already satisfied: MarkupSafe>=0.23 in /usr/local/lib/python3.7/dist-packages (from jinja2->pyLDAvis) (2.0.1)\n",
            "Requirement already satisfied: packaging in /usr/local/lib/python3.7/dist-packages (from numexpr->pyLDAvis) (21.3)\n",
            "Requirement already satisfied: pyparsing!=3.0.5,>=2.0.2 in /usr/local/lib/python3.7/dist-packages (from packaging->numexpr->pyLDAvis) (3.0.9)\n",
            "Requirement already satisfied: threadpoolctl>=2.0.0 in /usr/local/lib/python3.7/dist-packages (from scikit-learn->pyLDAvis) (3.1.0)\n",
            "Building wheels for collected packages: pyLDAvis, sklearn\n",
            "  Building wheel for pyLDAvis (PEP 517) ... \u001b[?25l\u001b[?25hdone\n",
            "  Created wheel for pyLDAvis: filename=pyLDAvis-3.3.1-py2.py3-none-any.whl size=136898 sha256=9e6e3d4cfcbb62857098c7670c30ccf20757bcf0cf792fa743e1bdf854816b08\n",
            "  Stored in directory: /root/.cache/pip/wheels/c9/21/f6/17bcf2667e8a68532ba2fbf6d5c72fdf4c7f7d9abfa4852d2f\n",
            "  Building wheel for sklearn (setup.py) ... \u001b[?25l\u001b[?25hdone\n",
            "  Created wheel for sklearn: filename=sklearn-0.0-py2.py3-none-any.whl size=1310 sha256=be77fa4710179b338c0d6597cf1e3d54e3ad750b859fef628241f7086ecdbd60\n",
            "  Stored in directory: /root/.cache/pip/wheels/46/ef/c3/157e41f5ee1372d1be90b09f74f82b10e391eaacca8f22d33e\n",
            "Successfully built pyLDAvis sklearn\n",
            "Installing collected packages: sklearn, funcy, pyLDAvis\n",
            "Successfully installed funcy-1.17 pyLDAvis-3.3.1 sklearn-0.0\n"
          ]
        }
      ]
    },
    {
      "cell_type": "code",
      "source": [
        "import pyLDAvis.sklearn\n",
        "pyLDAvis.enable_notebook()"
      ],
      "metadata": {
        "colab": {
          "base_uri": "https://localhost:8080/"
        },
        "id": "ZvifMa718IWg",
        "outputId": "8998c088-3aa0-43cb-ece9-af81c0e005e3"
      },
      "execution_count": 29,
      "outputs": [
        {
          "output_type": "stream",
          "name": "stderr",
          "text": [
            "/usr/local/lib/python3.7/dist-packages/past/types/oldstr.py:5: DeprecationWarning: Using or importing the ABCs from 'collections' instead of from 'collections.abc' is deprecated since Python 3.3,and in 3.9 it will stop working\n",
            "  from collections import Iterable\n",
            "/usr/local/lib/python3.7/dist-packages/past/builtins/misc.py:4: DeprecationWarning: Using or importing the ABCs from 'collections' instead of from 'collections.abc' is deprecated since Python 3.3,and in 3.9 it will stop working\n",
            "  from collections import Mapping\n"
          ]
        }
      ]
    },
    {
      "cell_type": "markdown",
      "source": [
        "Topic Modelling on specific country dataset."
      ],
      "metadata": {
        "id": "0wwhFUq-5ILk"
      }
    },
    {
      "cell_type": "code",
      "source": [
        "import pyLDAvis.sklearn\n",
        "'''\n",
        "function - 'get_country_specific_content'\n",
        "Returns DTM, LDA model parameters, and Count Vectorizer for a country specific data.\n",
        "Arguments passed:\n",
        "'country' - is input country you want to know.\n",
        "'''\n",
        "def get_country_specific_content(country_df):\n",
        "  # country_df has the single country data.\n",
        "  reindexed_netflix_data = country_df['description']\n",
        "\n",
        "  # Count Vectoriser\n",
        "  count_vectorizer = CountVectorizer(stop_words='english')\n",
        "\n",
        "  # Obtaining DTM\n",
        "  Document_term_matrix = count_vectorizer.fit_transform(reindexed_netflix_data.values)\n",
        "\n",
        "  grid_params = {'n_components' : list(range(5,10))}\n",
        "\n",
        "  # LDA model\n",
        "  lda = LatentDirichletAllocation()\n",
        "  lda_model = GridSearchCV(lda,param_grid=grid_params)\n",
        "  lda_model.fit(Document_term_matrix)\n",
        "\n",
        "  # Best LDA model\n",
        "  best_lda_model = lda_model.best_estimator_\n",
        "\n",
        "  # Transform and prepare a LDA model’s data for visualization\n",
        "  pyLDAvis.enable_notebook()\n",
        "  lda_panel = pyLDAvis.sklearn.prepare(best_lda_model, Document_term_matrix, count_vectorizer, mds='tsne')\n",
        "  return lda_panel"
      ],
      "metadata": {
        "id": "pyGix2LrTTuk"
      },
      "execution_count": 46,
      "outputs": []
    },
    {
      "cell_type": "code",
      "source": [
        "'''\n",
        "function - 'get_specific_country_plots'\n",
        "Plots the following:\n",
        "1. Count plot for Movies and TV Shows.\n",
        "2. Count plot for ratings of Movies and TV Shows.\n",
        "3. Count plot for Top 10 cast.\n",
        "4. Count plot for Top 10 countries.\n",
        "5. Count plot for Top 10 TV Shows Seasons.\n",
        "6. Displot for Duration Distribution for Netflix Movies.\n",
        "Arguments passed:\n",
        "'country_df' - Dataset for a specific country.\n",
        "'''\n",
        "def get_specific_country_plots(country_df):\n",
        "  # Count plot for Movies and TV Shows.\n",
        "  plt.figure(figsize=(31,20))\n",
        "  plt.subplot(3, 2, 1)\n",
        "  sns.countplot(x=\"type\", data=country_df)\n",
        "  plt.title(\"Count of Movies and TV Shows\", fontsize=14)\n",
        "\n",
        "  plt.subplot(3, 2, 2)\n",
        "  # Count plot for ratings of Movies and TV Shows.\n",
        "  sns.countplot(x=\"rating\", data=country_df, hue='type')\n",
        "  plt.title(\"Ratings\", fontsize=14)\n",
        "\n",
        "  plt.subplot(3, 2, 3)\n",
        "  # Count plot for Top 10 cast.\n",
        "  cast = country_df[country_df['cast'] != 'No Cast'].cast.str.split(', ', expand = True).stack().reset_index(level = 1, drop = True)\n",
        "  sns.countplot(y = cast, order=cast.value_counts().index[:10])\n",
        "  plt.title(\"Top 10 cast\", fontsize=14)\n",
        "\n",
        "  plt.subplot(3, 2, 4)\n",
        "  # Count plot for Top 10 countries.\n",
        "  country = country_df.listed_in.str.split(', ', expand = True).stack().reset_index(level = 1, drop = True)\n",
        "  sns.countplot(y = country, order=country.value_counts().index[:10])\n",
        "  plt.title(\"Top 10 country\", fontsize=14)\n",
        "\n",
        "  plt.subplot(3, 2, 5)\n",
        "  # Count plot for Top 10 TV Shows Seasons.\n",
        "  show_df = pd.DataFrame(country_df[country_df.type == 'TV Show'].duration.replace(['1 Season'], '1 Seasons').str.replace(' Seasons','').sort_values()).astype(int)\n",
        "  sns.countplot(data = show_df, x = 'duration', order = list(range(1,10)))\n",
        "  plt.title(\"Top 10 TV Shows Seasons\", fontsize=14)\n",
        "\n",
        "  plt.subplot(3, 2, 6)\n",
        "  # Displot for Duration Distribution for Netflix Movies.\n",
        "  movie_df = pd.DataFrame(country_df[country_df.type == 'Movie'].duration.str.replace(' min', '').astype(int))\n",
        "  sns.distplot(movie_df.duration)\n",
        "  plt.title(\"Duration Distribution for Netflix Movies\", fontsize=14)"
      ],
      "metadata": {
        "id": "1fUXNyptEFkY"
      },
      "execution_count": 45,
      "outputs": []
    },
    {
      "cell_type": "markdown",
      "source": [
        "Choosing the country to be India."
      ],
      "metadata": {
        "id": "ZxXby44RFamM"
      }
    },
    {
      "cell_type": "code",
      "source": [
        "# country_df - Dataset for a speci\n",
        "country_df = netflix_df1[netflix_df1['country'] == 'India']\n",
        "country_df = country_df.reset_index(drop = True)\n",
        "get_specific_country_plots(country_df)\n",
        "get_country_specific_content(country_df)"
      ],
      "metadata": {
        "colab": {
          "base_uri": "https://localhost:8080/",
          "height": 1000
        },
        "id": "MVWlilE-8v4O",
        "outputId": "3c0fd70b-ac91-4aa1-cd11-5fcb7b95b133"
      },
      "execution_count": 47,
      "outputs": [
        {
          "output_type": "execute_result",
          "data": {
            "text/plain": [
              "PreparedData(topic_coordinates=                x           y  topics  cluster       Freq\n",
              "topic                                                    \n",
              "3      150.222153  -72.269554       1        1  25.765245\n",
              "0       51.163364 -159.968018       2        1  22.357355\n",
              "4      -73.144554   21.523815       3        1  18.842399\n",
              "2      -66.410133 -110.606438       4        1  16.629647\n",
              "1       54.417324   12.443444       5        1  16.405355, topic_info=         Term        Freq       Total Category  logprob  loglift\n",
              "4594    young  102.000000  102.000000  Default  30.0000  30.0000\n",
              "2835      old   29.000000   29.000000  Default  29.0000  29.0000\n",
              "4071  teacher   10.000000   10.000000  Default  28.0000  28.0000\n",
              "4551    women   19.000000   19.000000  Default  27.0000  27.0000\n",
              "1580   father   53.000000   53.000000  Default  26.0000  26.0000\n",
              "...       ...         ...         ...      ...      ...      ...\n",
              "3665      set    4.327167   18.044872   Topic5  -6.1579   0.3796\n",
              "1565   family    5.709544   61.227329   Topic5  -5.8807  -0.5649\n",
              "1726  friends    5.021238   35.169251   Topic5  -6.0091  -0.1389\n",
              "2091    india    5.073521   49.596780   Topic5  -5.9988  -0.4723\n",
              "4592    years    4.326723   20.347177   Topic5  -6.1580   0.2594\n",
              "\n",
              "[402 rows x 6 columns], token_table=      Topic      Freq         Term\n",
              "term                              \n",
              "26        5  0.942996           20\n",
              "81        5  0.942996  accompanies\n",
              "85        3  0.923262      accuses\n",
              "98        2  0.900720       actors\n",
              "115       3  0.923262       adores\n",
              "...     ...       ...          ...\n",
              "4594      1  0.214546        young\n",
              "4594      2  0.458348        young\n",
              "4594      3  0.136529        young\n",
              "4594      4  0.068265        young\n",
              "4594      5  0.126777        young\n",
              "\n",
              "[717 rows x 3 columns], R=30, lambda_step=0.01, plot_opts={'xlab': 'PC1', 'ylab': 'PC2'}, topic_order=[4, 1, 5, 3, 2])"
            ],
            "text/html": [
              "\n",
              "<link rel=\"stylesheet\" type=\"text/css\" href=\"https://cdn.jsdelivr.net/gh/bmabey/pyLDAvis@3.3.1/pyLDAvis/js/ldavis.v1.0.0.css\">\n",
              "\n",
              "\n",
              "<div id=\"ldavis_el581405022498207521590926267\"></div>\n",
              "<script type=\"text/javascript\">\n",
              "\n",
              "var ldavis_el581405022498207521590926267_data = {\"mdsDat\": {\"x\": [150.22215270996094, 51.16336441040039, -73.1445541381836, -66.4101333618164, 54.41732406616211], \"y\": [-72.2695541381836, -159.968017578125, 21.523815155029297, -110.60643768310547, 12.44344425201416], \"topics\": [1, 2, 3, 4, 5], \"cluster\": [1, 1, 1, 1, 1], \"Freq\": [25.76524463206639, 22.357354686552693, 18.842398518154464, 16.629646960645946, 16.40535520258051]}, \"tinfo\": {\"Term\": [\"young\", \"old\", \"teacher\", \"women\", \"father\", \"help\", \"woman\", \"police\", \"couple\", \"moves\", \"way\", \"crime\", \"modern\", \"truth\", \"love\", \"leaves\", \"life\", \"feelings\", \"mission\", \"brother\", \"falls\", \"officer\", \"troubled\", \"past\", \"bollywood\", \"girlfriend\", \"investigation\", \"face\", \"controversial\", \"war\", \"commit\", \"murdered\", \"didn\", \"appears\", \"manisha\", \"omi\", \"reach\", \"named\", \"mob\", \"wishes\", \"assassin\", \"valuable\", \"successful\", \"scheming\", \"multiple\", \"notorious\", \"jazz\", \"barber\", \"dismay\", \"mini\", \"rajesh\", \"stunned\", \"roommate\", \"seema\", \"sid\", \"kumar\", \"karan\", \"kids\", \"surya\", \"improve\", \"shy\", \"bheem\", \"crime\", \"loves\", \"breaking\", \"jealous\", \"festival\", \"makes\", \"corruption\", \"help\", \"losing\", \"underworld\", \"win\", \"boss\", \"father\", \"life\", \"india\", \"aspiring\", \"wife\", \"daughter\", \"family\", \"new\", \"brother\", \"man\", \"heart\", \"son\", \"professor\", \"fight\", \"gangster\", \"love\", \"young\", \"woman\", \"village\", \"girl\", \"old\", \"town\", \"friends\", \"boy\", \"small\", \"indian\", \"college\", \"mumbai\", \"police\", \"toe\", \"earn\", \"embark\", \"moving\", \"iconic\", \"ring\", \"saga\", \"birth\", \"match\", \"boys\", \"subramaniam\", \"half\", \"brajbhan\", \"fatka\", \"brave\", \"easier\", \"said\", \"equally\", \"winner\", \"troupe\", \"sequel\", \"stepfather\", \"throne\", \"recruits\", \"actors\", \"carries\", \"widower\", \"wake\", \"alcoholic\", \"employer\", \"moves\", \"vacation\", \"return\", \"suicide\", \"hoping\", \"young\", \"mission\", \"ambitious\", \"threatens\", \"man\", \"falling\", \"leaves\", \"art\", \"beloved\", \"mumbai\", \"leads\", \"father\", \"indian\", \"woman\", \"radio\", \"relationship\", \"family\", \"years\", \"marry\", \"different\", \"friends\", \"lover\", \"men\", \"decide\", \"search\", \"home\", \"girl\", \"lives\", \"village\", \"help\", \"drama\", \"city\", \"india\", \"love\", \"story\", \"daughter\", \"new\", \"life\", \"prime\", \"position\", \"robbery\", \"policeman\", \"chennai\", \"obtain\", \"grandfather\", \"serves\", \"rogue\", \"assistant\", \"camp\", \"disrupted\", \"deals\", \"adores\", \"famous\", \"various\", \"dad\", \"horrifying\", \"restaurant\", \"fiza\", \"jhanvi\", \"alcohol\", \"boxer\", \"vying\", \"interwoven\", \"accuses\", \"concerned\", \"horizon\", \"crushes\", \"crosses\", \"investigation\", \"vows\", \"truth\", \"desperate\", \"bring\", \"falls\", \"dancer\", \"police\", \"run\", \"bachelors\", \"girlfriend\", \"love\", \"officer\", \"believe\", \"canada\", \"poses\", \"horror\", \"orphaned\", \"official\", \"orphan\", \"cash\", \"money\", \"film\", \"chance\", \"businessman\", \"murder\", \"stories\", \"justice\", \"man\", \"brother\", \"new\", \"true\", \"india\", \"girl\", \"boy\", \"gets\", \"young\", \"son\", \"mumbai\", \"town\", \"indian\", \"goes\", \"delhi\", \"small\", \"life\", \"family\", \"village\", \"daughter\", \"cop\", \"friends\", \"controversial\", \"shady\", \"dare\", \"offer\", \"corporate\", \"painter\", \"daughters\", \"afloat\", \"bal\", \"cartoonist\", \"founder\", \"maps\", \"meteoric\", \"sena\", \"thackeray\", \"manav\", \"mansi\", \"does\", \"unearth\", \"wisdom\", \"variety\", \"bygone\", \"twist\", \"determination\", \"remake\", \"riya\", \"passed\", \"oppressive\", \"ambition\", \"unethical\", \"teacher\", \"far\", \"sons\", \"later\", \"big\", \"murders\", \"face\", \"fact\", \"second\", \"peace\", \"meeting\", \"right\", \"villager\", \"schemes\", \"feelings\", \"woman\", \"bollywood\", \"personal\", \"way\", \"stand\", \"different\", \"dark\", \"social\", \"marriage\", \"family\", \"city\", \"wife\", \"modern\", \"love\", \"small\", \"falls\", \"sets\", \"town\", \"couple\", \"man\", \"life\", \"friends\", \"make\", \"men\", \"new\", \"young\", \"takes\", \"murder\", \"father\", \"india\", \"scam\", \"late\", \"property\", \"psychiatrist\", \"crooks\", \"differences\", \"nursing\", \"cost\", \"sanitary\", \"20\", \"crooked\", \"disapproving\", \"barriers\", \"dating\", \"club\", \"cultural\", \"patient\", \"entanglements\", \"accompanies\", \"beach\", \"sentenced\", \"impulsive\", \"contemporary\", \"knows\", \"prized\", \"stigma\", \"level\", \"grad\", \"mannered\", \"mild\", \"returning\", \"poet\", \"troubled\", \"caught\", \"women\", \"muslim\", \"old\", \"devoted\", \"past\", \"hindu\", \"comes\", \"couple\", \"war\", \"modern\", \"parents\", \"husband\", \"tragic\", \"just\", \"life\", \"lives\", \"love\", \"killer\", \"friend\", \"stolen\", \"way\", \"woman\", \"home\", \"young\", \"mumbai\", \"man\", \"finds\", \"death\", \"indian\", \"year\", \"girl\", \"wife\", \"set\", \"family\", \"friends\", \"india\", \"years\"], \"Freq\": [102.0, 29.0, 10.0, 19.0, 53.0, 20.0, 70.0, 24.0, 15.0, 10.0, 16.0, 18.0, 11.0, 10.0, 66.0, 10.0, 58.0, 9.0, 10.0, 23.0, 31.0, 15.0, 8.0, 22.0, 15.0, 13.0, 7.0, 12.0, 4.0, 9.0, 4.759824655605492, 4.75705546392371, 3.22381104776333, 3.222220956282701, 2.4577263216663314, 2.4577234833808075, 2.4577230299350696, 2.457722876015561, 2.457722702436804, 2.4577226539691237, 2.4577225261108957, 2.4577222104649796, 2.457722090375012, 2.457721527246869, 2.457721332122155, 3.994715828503947, 1.6896851728315874, 1.6896844439091592, 1.6896828686529326, 1.6896827274476152, 1.6896826421569007, 1.6896823577478106, 1.6896822650668752, 1.6896822650668752, 1.6896822650668752, 1.6896822131519782, 1.6896821262716515, 1.6896817019865915, 1.689681674381238, 1.689681663670001, 4.764999112258051, 4.765328944440802, 12.027975760583516, 9.383305219541018, 3.227185573737577, 3.2267031846156877, 3.224953227626076, 5.50501451949314, 7.593834861644819, 12.097603862002623, 3.1388066677428816, 4.762086815358295, 8.375725606979668, 4.768345662125014, 24.86175065691628, 25.402760844906393, 21.87469245378683, 7.528818231173926, 14.843971669033126, 12.968648229663469, 21.61357498697921, 14.53564996092874, 10.142636841882046, 27.408973680864893, 7.037065345341584, 11.630795665113851, 3.900979309035762, 5.536621508536684, 6.150791912059243, 17.04402721404964, 21.791368296751433, 16.218007905269747, 9.310574644463854, 10.907494774719863, 9.036173720296528, 7.837524943566762, 9.36962282144757, 7.711483477211578, 7.884036715302318, 8.600738497375703, 6.304300023970651, 7.995758578752084, 7.064900140491037, 2.3906011700311547, 2.3906004568610886, 2.39060041842549, 2.3905993044424894, 2.3905986464768216, 2.390469008944082, 2.390011893006172, 3.8856543176484255, 3.8868353855350093, 3.886637344363398, 1.643538228115759, 1.643536645873469, 1.6435358570018799, 1.6435357647490507, 1.6435357472961545, 1.6435356634557279, 1.6435356634557279, 1.6435352828582213, 1.6435350917237865, 1.6435349400355244, 1.643534805076599, 1.6435348056927397, 1.6435346685845007, 1.6435346532843353, 1.6435345954691736, 1.6435345633889733, 1.643534552848278, 1.6435345215791743, 1.6435343883933282, 1.6435343818363388, 7.469830818692285, 3.138497593075225, 3.1388082689486083, 3.1387913780881207, 3.138679299750056, 47.28499387536693, 6.129006504611179, 4.635707279525646, 3.886873741680293, 32.733342206584474, 3.889300851251221, 5.381533192312546, 3.1394047284346493, 3.1398098540131896, 15.683200427863706, 7.374798032134616, 17.74552082493988, 13.44523796089556, 21.436156802250547, 2.3914492556289115, 6.128882727781006, 16.87147308095675, 7.625674352596203, 7.620258018119957, 6.879574258530004, 9.864022548942167, 4.634824531713523, 6.131428602363877, 3.889611855686671, 5.344060281865723, 7.0363802134659315, 8.772168935502323, 6.5079837841922545, 7.1313082811332915, 6.324667920311418, 6.129793110926495, 6.128853492286681, 7.612890305389793, 7.814058928827549, 5.381921533921044, 5.879729349985399, 6.125224897140107, 6.113294486871117, 3.023816922445457, 2.3038594283161964, 2.303859329331296, 2.303858471559439, 2.303573936444843, 2.302754469077221, 3.726648292393952, 1.5839015276125539, 1.583901476888482, 1.5839014151295545, 1.5839013539044084, 1.5839013266229651, 1.583901151061408, 1.5839010161938456, 1.5839010120149273, 1.583900900211847, 1.583900847981563, 1.5839007954431055, 1.583900637289636, 1.5839005344039736, 1.5839005306243419, 1.5839005215932325, 1.5839004842016904, 1.583900443818698, 1.5839002792679198, 1.5839002318060487, 1.5839002019619661, 1.5839001000099429, 1.5838999859035123, 1.583899982713795, 5.082496816970826, 3.025914350493799, 5.908547040474073, 3.7474087512623746, 4.620564766978235, 12.662303409225558, 3.0264778077568426, 10.065196571290237, 5.105713098935877, 2.3035385436500886, 5.911546834616294, 19.088849397892925, 6.628077890419646, 2.305107935335134, 2.305041241309398, 2.3050259384812404, 2.3049911227058195, 2.3049895447620923, 2.3049682597193044, 2.305691747339602, 2.304773990678698, 4.468089364790699, 5.912722299544214, 3.7484804447677273, 3.746394298407574, 7.762717245881979, 5.9106501140486545, 4.470819836147197, 18.20872513897865, 7.34943026055982, 9.512982626574182, 5.910679772155557, 10.94864642925274, 9.119711255639839, 6.631519335998074, 5.192390304944683, 14.064537481046441, 7.348687146082192, 8.06343394915278, 5.908414366727001, 7.124535198808524, 5.723467453871061, 4.470625455297847, 5.413180509160545, 6.61492695677882, 6.614789073315382, 5.503445427664763, 5.537441734363963, 5.187582129669255, 5.180286653676235, 3.635976229482632, 2.9312921302608363, 2.2375217990222707, 2.2375215669552215, 2.237521564527252, 2.23752121949345, 2.237520140586138, 2.2367407284050715, 1.5382952776371859, 1.5382952776371859, 1.5382952776371859, 1.5382952776371859, 1.5382952776371859, 1.5382952776371859, 1.5382952776371859, 1.538294950292207, 1.538294950292207, 1.5382948540308798, 1.5382946136739992, 1.5382945907427101, 1.5382945659323826, 1.5382942997761826, 1.5382942785451725, 1.5382942358063576, 1.5382942274278852, 1.5382942147932779, 1.538294159633324, 1.538293946102026, 1.5382939294687379, 1.538293847357679, 6.435528876725477, 3.602704565226527, 2.926723185854333, 2.938811530473035, 2.9386509303964186, 2.939165789258822, 5.741564691877574, 2.2382292094106315, 2.237248236658899, 2.2384346054786977, 2.2387306583920736, 2.2387231344418432, 2.238060803885413, 2.238635222386853, 4.3247665559274955, 16.90819974257087, 5.73842146554841, 3.6351225354192254, 5.734212343685355, 3.6397877960748874, 5.742976801483855, 4.025235726338371, 4.341318266290525, 5.694597527443117, 10.417947129171045, 5.606975418202296, 7.245150240466995, 4.048106079768269, 9.524855728808763, 5.475567535052433, 6.023168888581246, 4.081855858791534, 5.038791275743809, 4.3377469483682205, 8.963212926088206, 7.228702682836924, 5.734080558861116, 4.185187462719309, 4.207666903848543, 5.237091402833459, 6.510050365168781, 4.340255042768701, 4.338626556080503, 4.344799472599193, 4.087029757306806, 2.231329091140338, 2.231328746096197, 2.231327878530755, 2.2313276502812474, 2.231327026544497, 3.6275552111849723, 1.534037464688967, 1.5340373600885846, 1.5340373600885846, 1.5340372000550557, 1.5340370119903632, 1.534037003368653, 1.534036996344381, 1.5340366864843333, 1.5340366566057635, 1.5340365631878519, 1.534036511205007, 1.5340364780524969, 1.5340364610396235, 1.5340364425879764, 1.5340364377065658, 1.5340363865692106, 1.534036304358233, 1.534036284502118, 1.5340362755510495, 1.5340361711348727, 1.5340360281447845, 1.5340360212801452, 1.5340359811381428, 1.5340359811381428, 2.930454958342868, 2.9298480558960116, 5.029767818783019, 4.264521127233255, 9.77204267781361, 2.7191621907112307, 12.717926920429951, 2.232512689838731, 8.521464894759895, 2.230537028828044, 4.1043145677005, 6.05867674207853, 4.326070252100623, 4.587328407466113, 4.99410787326339, 6.218381507786308, 2.9318332997882246, 2.9316563803907494, 12.701938907897022, 6.4252391959895, 13.397028912326236, 4.327782275841541, 5.351965116830195, 2.935168589203431, 5.025395150720251, 11.299437623370185, 6.066673911309683, 12.891112153368567, 8.220246529529799, 10.729290108094617, 5.337766630624366, 4.327448632444273, 6.710108699152596, 4.329675937624169, 5.719690266759778, 5.273550312562983, 4.327166778224066, 5.709544451426255, 5.02123822372245, 5.073521007203615, 4.326723205200425], \"Total\": [102.0, 29.0, 10.0, 19.0, 53.0, 20.0, 70.0, 24.0, 15.0, 10.0, 16.0, 18.0, 11.0, 10.0, 66.0, 10.0, 58.0, 9.0, 10.0, 23.0, 31.0, 15.0, 8.0, 22.0, 15.0, 13.0, 7.0, 12.0, 4.0, 9.0, 5.334506485008397, 5.334346533830559, 3.7984263880984073, 3.798162563557947, 3.030439155626082, 3.0304389555828126, 3.0304389246333807, 3.0304389125494122, 3.030438897964, 3.0304388980756465, 3.0304388860934486, 3.0304388672791776, 3.0304388586483455, 3.0304388173503147, 3.0304388006125462, 5.28652328329671, 2.2623981599003553, 2.2623981101443147, 2.2623979987033476, 2.2623979891150015, 2.2623979795834233, 2.2623979617445644, 2.262397955429346, 2.262397955429346, 2.262397955429346, 2.262397949698131, 2.26239794745657, 2.262397916544078, 2.262397914777855, 2.262397912523756, 6.753980514037448, 6.781028727006836, 18.614332712614996, 14.349232162233074, 4.545583063235653, 4.5455472508918735, 4.545371414511034, 8.196124237781818, 11.976901385502453, 20.39362037581751, 4.543078890167763, 7.426459720173758, 14.237190557065457, 7.499214126124574, 53.09047140309797, 58.06162387929027, 49.59677995293979, 13.314836443372918, 33.80752898641086, 28.961254084700585, 61.22732872184864, 36.22835049375574, 23.040664322915294, 98.04354406061084, 14.103648961361898, 29.56075451550273, 5.956658515307455, 10.36285947048054, 12.607112274748054, 66.86882018190511, 102.54206217170216, 70.76045053510035, 26.61530340927562, 36.7470720507773, 29.66933800281221, 21.99964274157481, 35.169250806649536, 22.149093367883914, 23.43392839967434, 36.77943188187859, 14.090437036678932, 43.184421909438086, 24.198698903053888, 2.967510770153506, 2.96751074259737, 2.967510742638393, 2.967510694463825, 2.9675106716738413, 2.9675023446148936, 2.967527104188607, 5.16092549205973, 5.229621544103137, 5.229627172067536, 2.220446021229586, 2.2204459562490126, 2.220445930445249, 2.2204459212346195, 2.2204459249300483, 2.2204459185394563, 2.2204459185394563, 2.2204459079028096, 2.220445896968661, 2.220445890242653, 2.220445885932261, 2.2204458882193308, 2.220445884161177, 2.2204458804531555, 2.220445876911809, 2.220445876592695, 2.2204458727560077, 2.220445875614529, 2.220445868813752, 2.220445873134585, 10.981985453449525, 4.413856217795495, 4.434574926274969, 4.434574311514829, 4.43457025849851, 102.54206217170216, 10.197243344437533, 7.4647929613131065, 6.576265605481803, 98.04354406061084, 6.64891162237759, 10.209958270634129, 5.131910164414142, 5.181859279424398, 43.184421909438086, 16.218321906191534, 53.09047140309797, 36.77943188187859, 70.76045053510035, 3.6648594031109765, 13.795111786840614, 61.22732872184864, 20.347177068123955, 21.298930047738793, 18.062665141950593, 35.169250806649536, 9.624450669721941, 16.12064052337619, 7.366850265786296, 13.722195379771799, 23.32065086850392, 36.7470720507773, 20.251362305035876, 26.61530340927562, 20.39362037581751, 19.0342587529128, 19.610646663532034, 49.59677995293979, 66.86882018190511, 17.704516469286034, 28.961254084700585, 36.22835049375574, 58.06162387929027, 3.606148242018748, 2.8861903252463224, 2.8861903306018917, 2.8861903314721893, 2.8861821165227424, 2.886231827445123, 5.024792124918057, 2.1662324062248324, 2.166232406056408, 2.1662324057662232, 2.16623240659326, 2.1662324094647567, 2.1662324146769176, 2.166232415814648, 2.166232412842472, 2.1662324136982347, 2.166232409495228, 2.1662324110743594, 2.1662324113142257, 2.1662324134305315, 2.166232413499107, 2.16623240980205, 2.1662324144696785, 2.1662324164639313, 2.1662324102403776, 2.1662324208548633, 2.1662324144752083, 2.166232413843872, 2.1662324177243004, 2.166232414107916, 7.23117071647504, 4.374048479252798, 10.25732665161998, 6.490585405427353, 8.592296699970941, 31.945180670655215, 5.002747419894356, 24.198698903053888, 10.010366968238914, 3.583531904347273, 13.011665739455344, 66.86882018190511, 15.42098081578085, 3.6332077865257784, 3.633210334424971, 3.6332108631911297, 3.6332122075737234, 3.6332123338444595, 3.6332131193592487, 3.6541081011253653, 3.6541697505857327, 9.33126741945253, 13.935273475314375, 7.306329276769751, 7.326700377675125, 21.730699834198717, 15.89667059302944, 10.330688022858618, 98.04354406061084, 23.040664322915294, 36.22835049375574, 16.82384030209177, 49.59677995293979, 36.7470720507773, 22.149093367883914, 13.980880939484994, 102.54206217170216, 29.56075451550273, 43.184421909438086, 21.99964274157481, 36.77943188187859, 21.164290888249976, 11.595081501403993, 23.43392839967434, 58.06162387929027, 61.22732872184864, 26.61530340927562, 28.961254084700585, 20.610268346514, 35.169250806649536, 4.2224525633199805, 3.523387282671682, 2.823998248587099, 2.8239982600058444, 2.8239982621791344, 2.82399827184147, 2.823998320067064, 2.8240593680478163, 2.124771059964434, 2.124771059964434, 2.124771059964434, 2.124771059964434, 2.124771059964434, 2.124771059964434, 2.124771059964434, 2.1247710755328657, 2.1247710755328657, 2.124771079222383, 2.1247710901345087, 2.124771087859253, 2.1247710934450166, 2.1247711017148694, 2.1247711015059907, 2.1247711079909126, 2.124771102142085, 2.1247711066407726, 2.1247711110179615, 2.1247711208801907, 2.124771118965319, 2.1247711235127285, 10.007439442926426, 5.6903648262057835, 4.918729009850601, 4.9674791116333115, 4.990186867234587, 5.017254408238208, 12.256612432047532, 3.521292319408674, 3.5213196066156254, 3.54392919871049, 3.570980128286244, 3.570980686317022, 3.570977441296959, 3.5919292427232414, 9.151312573426386, 70.76045053510035, 15.746968384389834, 7.902276903185749, 16.51393589567022, 8.550925427624565, 18.062665141950593, 10.092216051255017, 11.652114788416847, 19.42783654656841, 61.22732872184864, 19.610646663532034, 33.80752898641086, 11.314999545257951, 66.86882018190511, 23.43392839967434, 31.945180670655215, 12.532638354370516, 21.99964274157481, 15.024606189620485, 98.04354406061084, 58.06162387929027, 35.169250806649536, 15.456447223962172, 16.12064052337619, 36.22835049375574, 102.54206217170216, 18.324368976036414, 21.730699834198717, 53.09047140309797, 49.59677995293979, 2.818192287046259, 2.818192304203789, 2.8181923468348953, 2.8181923587504296, 2.818192380415086, 4.9119988624102415, 2.120900436746682, 2.12090044204928, 2.12090044204928, 2.1209004503195934, 2.12090045924207, 2.1209004578279185, 2.1209004599987025, 2.120900474398165, 2.12090047453679, 2.1209004805740017, 2.120900486043593, 2.120900484614413, 2.1209004820278508, 2.1209004866503522, 2.1209004862172356, 2.1209004910744294, 2.1209004900964987, 2.1209004968715366, 2.1209004898693236, 2.1209004955577795, 2.1209005058297126, 2.1209005067751225, 2.120900513083248, 2.120900513083248, 4.262415040931967, 4.262461201608321, 8.56815456342673, 7.149244498818055, 19.33245579180766, 4.27750002074785, 29.66933800281221, 3.5381118803738207, 22.303129044844837, 3.586253624140223, 8.519171111465827, 15.024606189620485, 9.373827151305019, 11.314999545257951, 12.937271503282387, 18.140585188464833, 5.771352956749774, 5.7983758490322295, 58.06162387929027, 20.251362305035876, 66.86882018190511, 11.451351021084793, 18.111348715110154, 6.449369435573434, 16.51393589567022, 70.76045053510035, 23.32065086850392, 102.54206217170216, 43.184421909438086, 98.04354406061084, 20.331054331944515, 13.12136344169985, 36.77943188187859, 14.5520271243971, 36.7470720507773, 33.80752898641086, 18.044871579606383, 61.22732872184864, 35.169250806649536, 49.59677995293979, 20.347177068123955], \"Category\": [\"Default\", \"Default\", \"Default\", \"Default\", \"Default\", \"Default\", \"Default\", \"Default\", \"Default\", \"Default\", \"Default\", \"Default\", \"Default\", \"Default\", \"Default\", \"Default\", \"Default\", \"Default\", \"Default\", \"Default\", \"Default\", \"Default\", \"Default\", \"Default\", \"Default\", \"Default\", \"Default\", \"Default\", \"Default\", \"Default\", \"Topic1\", \"Topic1\", \"Topic1\", \"Topic1\", \"Topic1\", \"Topic1\", \"Topic1\", \"Topic1\", \"Topic1\", \"Topic1\", \"Topic1\", \"Topic1\", \"Topic1\", \"Topic1\", \"Topic1\", \"Topic1\", \"Topic1\", \"Topic1\", \"Topic1\", \"Topic1\", \"Topic1\", \"Topic1\", \"Topic1\", \"Topic1\", \"Topic1\", \"Topic1\", \"Topic1\", \"Topic1\", \"Topic1\", \"Topic1\", \"Topic1\", \"Topic1\", \"Topic1\", \"Topic1\", \"Topic1\", \"Topic1\", \"Topic1\", \"Topic1\", \"Topic1\", \"Topic1\", \"Topic1\", \"Topic1\", \"Topic1\", \"Topic1\", \"Topic1\", \"Topic1\", \"Topic1\", \"Topic1\", \"Topic1\", \"Topic1\", \"Topic1\", \"Topic1\", \"Topic1\", \"Topic1\", \"Topic1\", \"Topic1\", \"Topic1\", \"Topic1\", \"Topic1\", \"Topic1\", \"Topic1\", \"Topic1\", \"Topic1\", \"Topic1\", \"Topic1\", \"Topic1\", \"Topic1\", \"Topic1\", \"Topic1\", \"Topic1\", \"Topic1\", \"Topic1\", \"Topic1\", \"Topic2\", \"Topic2\", \"Topic2\", \"Topic2\", \"Topic2\", \"Topic2\", \"Topic2\", \"Topic2\", \"Topic2\", \"Topic2\", \"Topic2\", \"Topic2\", \"Topic2\", \"Topic2\", \"Topic2\", \"Topic2\", \"Topic2\", \"Topic2\", \"Topic2\", \"Topic2\", \"Topic2\", \"Topic2\", \"Topic2\", \"Topic2\", \"Topic2\", \"Topic2\", \"Topic2\", \"Topic2\", \"Topic2\", \"Topic2\", \"Topic2\", \"Topic2\", \"Topic2\", \"Topic2\", \"Topic2\", \"Topic2\", \"Topic2\", \"Topic2\", \"Topic2\", \"Topic2\", \"Topic2\", \"Topic2\", \"Topic2\", \"Topic2\", \"Topic2\", \"Topic2\", \"Topic2\", \"Topic2\", \"Topic2\", \"Topic2\", \"Topic2\", \"Topic2\", \"Topic2\", \"Topic2\", \"Topic2\", \"Topic2\", \"Topic2\", \"Topic2\", \"Topic2\", \"Topic2\", \"Topic2\", \"Topic2\", \"Topic2\", \"Topic2\", \"Topic2\", \"Topic2\", \"Topic2\", \"Topic2\", \"Topic2\", \"Topic2\", \"Topic2\", \"Topic2\", \"Topic2\", \"Topic3\", \"Topic3\", \"Topic3\", \"Topic3\", \"Topic3\", \"Topic3\", \"Topic3\", \"Topic3\", \"Topic3\", \"Topic3\", \"Topic3\", \"Topic3\", \"Topic3\", \"Topic3\", \"Topic3\", \"Topic3\", \"Topic3\", \"Topic3\", \"Topic3\", \"Topic3\", \"Topic3\", \"Topic3\", \"Topic3\", \"Topic3\", \"Topic3\", \"Topic3\", \"Topic3\", \"Topic3\", \"Topic3\", \"Topic3\", \"Topic3\", \"Topic3\", \"Topic3\", \"Topic3\", \"Topic3\", \"Topic3\", \"Topic3\", \"Topic3\", \"Topic3\", \"Topic3\", \"Topic3\", \"Topic3\", \"Topic3\", \"Topic3\", \"Topic3\", \"Topic3\", \"Topic3\", \"Topic3\", \"Topic3\", \"Topic3\", \"Topic3\", \"Topic3\", \"Topic3\", \"Topic3\", \"Topic3\", \"Topic3\", \"Topic3\", \"Topic3\", \"Topic3\", \"Topic3\", \"Topic3\", \"Topic3\", \"Topic3\", \"Topic3\", \"Topic3\", \"Topic3\", \"Topic3\", \"Topic3\", \"Topic3\", \"Topic3\", \"Topic3\", \"Topic3\", \"Topic3\", \"Topic3\", \"Topic3\", \"Topic3\", \"Topic3\", \"Topic3\", \"Topic3\", \"Topic3\", \"Topic4\", \"Topic4\", \"Topic4\", \"Topic4\", \"Topic4\", \"Topic4\", \"Topic4\", \"Topic4\", \"Topic4\", \"Topic4\", \"Topic4\", \"Topic4\", \"Topic4\", \"Topic4\", \"Topic4\", \"Topic4\", \"Topic4\", \"Topic4\", \"Topic4\", \"Topic4\", \"Topic4\", \"Topic4\", \"Topic4\", \"Topic4\", \"Topic4\", \"Topic4\", \"Topic4\", \"Topic4\", \"Topic4\", \"Topic4\", \"Topic4\", \"Topic4\", \"Topic4\", \"Topic4\", \"Topic4\", \"Topic4\", \"Topic4\", \"Topic4\", \"Topic4\", \"Topic4\", \"Topic4\", \"Topic4\", \"Topic4\", \"Topic4\", \"Topic4\", \"Topic4\", \"Topic4\", \"Topic4\", \"Topic4\", \"Topic4\", \"Topic4\", \"Topic4\", \"Topic4\", \"Topic4\", \"Topic4\", \"Topic4\", \"Topic4\", \"Topic4\", \"Topic4\", \"Topic4\", \"Topic4\", \"Topic4\", \"Topic4\", \"Topic4\", \"Topic4\", \"Topic4\", \"Topic4\", \"Topic4\", \"Topic4\", \"Topic4\", \"Topic4\", \"Topic4\", \"Topic4\", \"Topic4\", \"Topic4\", \"Topic5\", \"Topic5\", \"Topic5\", \"Topic5\", \"Topic5\", \"Topic5\", \"Topic5\", \"Topic5\", \"Topic5\", \"Topic5\", \"Topic5\", \"Topic5\", \"Topic5\", \"Topic5\", \"Topic5\", \"Topic5\", \"Topic5\", \"Topic5\", \"Topic5\", \"Topic5\", \"Topic5\", \"Topic5\", \"Topic5\", \"Topic5\", \"Topic5\", \"Topic5\", \"Topic5\", \"Topic5\", \"Topic5\", \"Topic5\", \"Topic5\", \"Topic5\", \"Topic5\", \"Topic5\", \"Topic5\", \"Topic5\", \"Topic5\", \"Topic5\", \"Topic5\", \"Topic5\", \"Topic5\", \"Topic5\", \"Topic5\", \"Topic5\", \"Topic5\", \"Topic5\", \"Topic5\", \"Topic5\", \"Topic5\", \"Topic5\", \"Topic5\", \"Topic5\", \"Topic5\", \"Topic5\", \"Topic5\", \"Topic5\", \"Topic5\", \"Topic5\", \"Topic5\", \"Topic5\", \"Topic5\", \"Topic5\", \"Topic5\", \"Topic5\", \"Topic5\", \"Topic5\", \"Topic5\", \"Topic5\", \"Topic5\", \"Topic5\", \"Topic5\"], \"logprob\": [30.0, 29.0, 28.0, 27.0, 26.0, 25.0, 24.0, 23.0, 22.0, 21.0, 20.0, 19.0, 18.0, 17.0, 16.0, 15.0, 14.0, 13.0, 12.0, 11.0, 10.0, 9.0, 8.0, 7.0, 6.0, 5.0, 4.0, 3.0, 2.0, 1.0, -6.514, -6.5146, -6.9037, -6.9041, -7.175, -7.175, -7.175, -7.175, -7.175, -7.175, -7.175, -7.175, -7.175, -7.175, -7.175, -6.6892, -7.5497, -7.5497, -7.5497, -7.5497, -7.5497, -7.5497, -7.5497, -7.5497, -7.5497, -7.5497, -7.5497, -7.5497, -7.5497, -7.5497, -6.5129, -6.5128, -5.587, -5.8353, -6.9026, -6.9028, -6.9033, -6.3686, -6.0469, -5.5812, -6.9304, -6.5135, -5.9489, -6.5122, -4.8609, -4.8394, -4.9889, -6.0555, -5.3766, -5.5117, -5.0009, -5.3976, -5.7575, -4.7633, -6.123, -5.6206, -6.713, -6.3628, -6.2576, -5.2384, -4.9927, -5.2881, -5.8431, -5.6848, -5.873, -6.0153, -5.8367, -6.0315, -6.0094, -5.9224, -6.233, -5.9953, -6.1191, -7.0608, -7.0608, -7.0608, -7.0608, -7.0608, -7.0609, -7.061, -6.5751, -6.5747, -6.5748, -7.4355, -7.4355, -7.4355, -7.4355, -7.4355, -7.4355, -7.4355, -7.4355, -7.4355, -7.4355, -7.4355, -7.4355, -7.4355, -7.4355, -7.4355, -7.4355, -7.4355, -7.4355, -7.4355, -7.4355, -5.9215, -6.7886, -6.7885, -6.7885, -6.7885, -4.0762, -6.1193, -6.3986, -6.5747, -4.4439, -6.5741, -6.2494, -6.7883, -6.7882, -5.1798, -5.9343, -5.0562, -5.3337, -4.8673, -7.0604, -6.1193, -5.1067, -5.9008, -5.9015, -6.0038, -5.6435, -6.3987, -6.1189, -6.574, -6.2564, -5.9813, -5.7608, -6.0593, -5.9678, -6.0879, -6.1192, -6.1193, -5.9025, -5.8764, -6.2493, -6.1608, -6.1199, -6.1219, -6.6548, -6.9267, -6.9267, -6.9267, -6.9268, -6.9272, -6.4458, -7.3014, -7.3014, -7.3014, -7.3014, -7.3014, -7.3014, -7.3014, -7.3014, -7.3014, -7.3014, -7.3014, -7.3014, -7.3014, -7.3014, -7.3014, -7.3014, -7.3014, -7.3014, -7.3014, -7.3014, -7.3014, -7.3014, -7.3014, -6.1355, -6.6541, -5.9849, -6.4402, -6.2308, -5.2227, -6.6539, -5.4522, -6.1309, -6.9269, -5.9844, -4.8122, -5.87, -6.9262, -6.9262, -6.9262, -6.9262, -6.9262, -6.9262, -6.9259, -6.9263, -6.2643, -5.9842, -6.4399, -6.4405, -5.712, -5.9845, -6.2637, -4.8594, -5.7667, -5.5086, -5.9845, -5.3681, -5.5509, -5.8695, -6.1141, -5.1176, -5.7668, -5.674, -5.9849, -5.7978, -6.0167, -6.2638, -6.0725, -5.872, -5.872, -6.0559, -6.0498, -6.115, -6.1164, -6.3455, -6.5609, -6.831, -6.831, -6.831, -6.831, -6.831, -6.8314, -7.2057, -7.2057, -7.2057, -7.2057, -7.2057, -7.2057, -7.2057, -7.2057, -7.2057, -7.2057, -7.2057, -7.2057, -7.2057, -7.2057, -7.2057, -7.2057, -7.2057, -7.2057, -7.2057, -7.2057, -7.2057, -7.2057, -5.7745, -6.3547, -6.5625, -6.5584, -6.5584, -6.5583, -5.8886, -6.8307, -6.8311, -6.8306, -6.8305, -6.8305, -6.8308, -6.8305, -6.172, -4.8086, -5.8892, -6.3457, -5.8899, -6.3445, -5.8884, -6.2438, -6.1682, -5.8969, -5.2928, -5.9124, -5.656, -6.2381, -5.3825, -5.9361, -5.8408, -6.2298, -6.0192, -6.169, -5.4432, -5.6583, -5.8899, -6.2048, -6.1995, -5.9806, -5.763, -6.1684, -6.1688, -6.1674, -6.2286, -6.8202, -6.8202, -6.8202, -6.8202, -6.8202, -6.3342, -7.1949, -7.1949, -7.1949, -7.1949, -7.1949, -7.1949, -7.1949, -7.1949, -7.1949, -7.1949, -7.1949, -7.1949, -7.1949, -7.1949, -7.1949, -7.1949, -7.1949, -7.1949, -7.1949, -7.1949, -7.1949, -7.1949, -7.1949, -7.1949, -6.5476, -6.5478, -6.0074, -6.1725, -5.3433, -6.6225, -5.0798, -6.8197, -5.4802, -6.8206, -6.2108, -5.8213, -6.1581, -6.0995, -6.0145, -5.7953, -6.5472, -6.5472, -5.081, -5.7626, -5.0278, -6.1577, -5.9453, -6.546, -6.0083, -5.198, -5.82, -5.0663, -5.5162, -5.2498, -5.948, -6.1578, -5.7192, -6.1573, -5.8789, -5.9601, -6.1579, -5.8807, -6.0091, -5.9988, -6.158], \"loglift\": [30.0, 29.0, 28.0, 27.0, 26.0, 25.0, 24.0, 23.0, 22.0, 21.0, 20.0, 19.0, 18.0, 17.0, 16.0, 15.0, 14.0, 13.0, 12.0, 11.0, 10.0, 9.0, 8.0, 7.0, 6.0, 5.0, 4.0, 3.0, 2.0, 1.0, 1.2422, 1.2416, 1.1921, 1.1917, 1.1467, 1.1467, 1.1467, 1.1467, 1.1467, 1.1467, 1.1467, 1.1467, 1.1467, 1.1467, 1.1467, 1.076, 1.0643, 1.0643, 1.0643, 1.0643, 1.0643, 1.0643, 1.0643, 1.0643, 1.0643, 1.0643, 1.0643, 1.0643, 1.0643, 1.0643, 1.0073, 1.0034, 0.9194, 0.9314, 1.0136, 1.0135, 1.013, 0.9581, 0.9005, 0.8339, 0.9864, 0.9118, 0.8256, 0.9033, 0.5975, 0.5295, 0.5375, 0.786, 0.5331, 0.5527, 0.3149, 0.4429, 0.5356, 0.0816, 0.6609, 0.4234, 0.9329, 0.7293, 0.6385, -0.0108, -0.1926, -0.117, 0.3058, 0.1415, 0.1673, 0.324, 0.0334, 0.3011, 0.2668, -0.0969, 0.5519, -0.3304, 0.125, 1.2818, 1.2818, 1.2818, 1.2818, 1.2818, 1.2818, 1.2816, 1.2142, 1.2013, 1.2012, 1.1972, 1.1972, 1.1972, 1.1972, 1.1972, 1.1972, 1.1972, 1.1972, 1.1972, 1.1972, 1.1972, 1.1972, 1.1972, 1.1972, 1.1972, 1.1972, 1.1972, 1.1972, 1.1972, 1.1972, 1.1126, 1.157, 1.1524, 1.1524, 1.1524, 0.7239, 0.9889, 1.0216, 0.9722, 0.401, 0.9618, 0.8576, 1.0066, 0.997, 0.4851, 0.7099, 0.4022, 0.4917, 0.3038, 1.0711, 0.6867, 0.209, 0.5166, 0.4702, 0.5327, 0.2267, 0.7673, 0.5313, 0.8593, 0.555, 0.2998, 0.0655, 0.3628, 0.181, 0.3273, 0.3649, 0.3349, -0.3761, -0.6488, 0.3072, -0.0964, -0.2794, -0.753, 1.4929, 1.4437, 1.4437, 1.4437, 1.4436, 1.4432, 1.3702, 1.356, 1.356, 1.356, 1.356, 1.356, 1.356, 1.356, 1.356, 1.356, 1.356, 1.356, 1.356, 1.356, 1.356, 1.356, 1.356, 1.356, 1.356, 1.356, 1.356, 1.356, 1.356, 1.356, 1.3165, 1.3006, 1.1175, 1.1198, 1.0487, 0.7437, 1.1665, 0.7918, 0.9958, 1.2272, 0.8801, 0.4154, 0.8246, 1.2141, 1.214, 1.214, 1.214, 1.214, 1.214, 1.2086, 1.2082, 0.9327, 0.8117, 1.0017, 0.9983, 0.6397, 0.6797, 0.8315, -0.0145, 0.5264, 0.3319, 0.623, 0.1584, 0.2754, 0.4631, 0.6786, -0.3176, 0.2771, -0.0091, 0.3544, 0.0277, 0.3613, 0.716, 0.2037, -0.5031, -0.5562, 0.0929, 0.0146, 0.2895, -0.2463, 1.6444, 1.61, 1.5612, 1.5612, 1.5612, 1.5612, 1.5612, 1.5608, 1.471, 1.471, 1.471, 1.471, 1.471, 1.471, 1.471, 1.471, 1.471, 1.471, 1.471, 1.471, 1.471, 1.471, 1.471, 1.471, 1.471, 1.471, 1.471, 1.471, 1.471, 1.471, 1.3525, 1.3369, 1.2748, 1.2691, 1.2645, 1.2592, 1.0356, 1.3408, 1.3404, 1.3345, 1.3271, 1.327, 1.3268, 1.3212, 1.0444, 0.3625, 0.7845, 1.0175, 0.7362, 0.9399, 0.6481, 0.8748, 0.8067, 0.5668, 0.0229, 0.5419, 0.2536, 0.7661, -0.1548, 0.3401, 0.1256, 0.6722, 0.3201, 0.5516, -0.5983, -0.2895, -0.0198, 0.4875, 0.4508, -0.1401, -0.9629, 0.3537, 0.1828, -0.709, -0.7021, 1.5741, 1.5741, 1.5741, 1.5741, 1.5741, 1.5044, 1.4836, 1.4836, 1.4836, 1.4836, 1.4836, 1.4836, 1.4836, 1.4836, 1.4836, 1.4836, 1.4836, 1.4836, 1.4836, 1.4836, 1.4836, 1.4836, 1.4836, 1.4836, 1.4836, 1.4836, 1.4836, 1.4836, 1.4836, 1.4836, 1.4329, 1.4327, 1.2749, 1.2909, 1.1253, 1.3545, 0.9605, 1.3471, 0.8454, 1.3327, 1.0773, 0.8994, 1.0343, 0.9047, 0.8557, 0.7369, 1.1303, 1.1256, 0.2878, 0.6596, 0.1999, 0.8345, 0.5885, 1.0203, 0.6179, -0.027, 0.461, -0.2662, 0.1487, -0.4049, 0.4702, 0.6983, 0.1062, 0.5953, -0.0526, -0.0504, 0.3796, -0.5649, -0.1389, -0.4723, 0.2594]}, \"token.table\": {\"Topic\": [5, 5, 3, 2, 3, 4, 3, 2, 4, 1, 2, 3, 1, 2, 3, 5, 1, 2, 4, 5, 1, 3, 3, 5, 4, 1, 5, 5, 2, 3, 1, 2, 4, 1, 2, 4, 2, 3, 4, 2, 4, 2, 3, 4, 5, 1, 2, 3, 5, 3, 1, 2, 3, 4, 5, 1, 2, 2, 2, 1, 2, 2, 3, 4, 5, 1, 2, 3, 5, 1, 3, 4, 4, 3, 2, 3, 2, 4, 1, 3, 1, 2, 3, 5, 1, 2, 3, 5, 3, 1, 2, 3, 4, 5, 5, 1, 2, 3, 4, 5, 2, 3, 4, 5, 1, 3, 5, 4, 1, 2, 3, 4, 5, 4, 1, 2, 3, 4, 5, 1, 2, 4, 5, 1, 3, 4, 5, 5, 5, 3, 3, 5, 3, 3, 4, 5, 4, 1, 3, 4, 5, 5, 1, 2, 3, 4, 5, 4, 3, 1, 2, 4, 5, 1, 2, 3, 5, 1, 2, 3, 4, 5, 1, 3, 4, 5, 4, 3, 5, 1, 4, 5, 1, 2, 3, 4, 5, 5, 1, 3, 4, 1, 2, 3, 4, 5, 2, 2, 2, 2, 5, 2, 1, 2, 3, 4, 4, 5, 1, 2, 3, 4, 1, 2, 3, 4, 5, 1, 2, 3, 4, 5, 3, 2, 3, 4, 1, 2, 3, 4, 5, 2, 3, 4, 5, 1, 2, 1, 2, 3, 4, 5, 1, 2, 3, 4, 5, 1, 2, 3, 4, 5, 3, 4, 1, 2, 3, 4, 5, 1, 2, 3, 4, 5, 1, 2, 3, 5, 1, 2, 3, 4, 5, 1, 2, 3, 4, 5, 1, 2, 3, 4, 1, 2, 3, 4, 5, 5, 3, 4, 2, 1, 2, 3, 4, 5, 1, 2, 3, 5, 1, 5, 1, 2, 3, 4, 5, 2, 3, 3, 3, 2, 3, 1, 2, 3, 4, 5, 2, 1, 5, 1, 2, 3, 4, 5, 1, 2, 3, 4, 5, 3, 1, 3, 5, 1, 1, 2, 3, 1, 2, 5, 1, 2, 3, 5, 1, 1, 1, 3, 4, 5, 5, 1, 5, 2, 4, 5, 1, 2, 3, 4, 5, 1, 2, 5, 5, 1, 2, 3, 4, 5, 1, 2, 3, 4, 5, 1, 2, 1, 2, 3, 4, 5, 1, 2, 3, 1, 2, 3, 5, 1, 2, 3, 4, 1, 4, 5, 1, 2, 3, 4, 5, 4, 1, 5, 4, 4, 1, 2, 3, 4, 5, 1, 2, 4, 5, 1, 2, 2, 4, 1, 2, 3, 4, 5, 4, 5, 1, 2, 4, 5, 1, 1, 3, 4, 5, 2, 3, 4, 5, 2, 4, 5, 2, 1, 1, 2, 3, 4, 5, 1, 2, 3, 4, 5, 1, 2, 4, 2, 5, 1, 1, 2, 3, 4, 5, 1, 3, 5, 3, 4, 1, 2, 3, 5, 2, 3, 1, 2, 3, 4, 5, 1, 4, 1, 3, 2, 3, 4, 1, 2, 3, 4, 5, 4, 1, 2, 3, 4, 5, 5, 3, 4, 1, 2, 3, 4, 5, 2, 5, 1, 2, 3, 5, 3, 2, 3, 3, 3, 5, 1, 4, 5, 5, 2, 5, 1, 1, 2, 2, 3, 4, 5, 4, 3, 2, 3, 2, 5, 2, 4, 2, 4, 3, 3, 1, 2, 3, 4, 5, 2, 2, 5, 5, 1, 4, 1, 2, 3, 4, 5, 4, 5, 1, 4, 5, 2, 3, 1, 2, 3, 4, 5, 1, 2, 3, 4, 4, 1, 3, 4, 1, 1, 2, 3, 4, 5, 1, 2, 3, 4, 5, 1, 2, 3, 4, 5, 4, 5, 2, 3, 4, 5, 2, 5, 1, 2, 3, 4, 5, 1, 2, 3, 4, 5, 1, 2, 3, 4, 5, 1, 2, 1, 2, 3, 1, 1, 2, 3, 4, 5, 2, 4, 4, 2, 3, 5, 2, 2, 1, 2, 3, 4, 5, 1, 3, 5, 1, 2, 4, 5, 2, 1, 2, 3, 4, 5, 1, 3, 4, 4, 1, 5, 4, 4, 2, 4, 1, 4, 3, 1, 2, 3, 4, 5, 2, 4, 1, 3, 3, 2, 1, 3, 5, 1, 2, 4, 5, 2, 1, 2, 3, 4, 5, 1, 2, 3, 5, 2, 4, 1, 1, 2, 3, 4, 5, 1, 2, 3, 4, 5, 1, 2, 3, 4, 5, 1, 2, 3, 4, 5, 1, 2, 3, 4, 5], \"Freq\": [0.9429956977465043, 0.9429956836483651, 0.9232619642959351, 0.9007199953829071, 0.9232619664441069, 0.7082004091799732, 0.9232619690067142, 0.90071999866787, 0.941277854423173, 0.2679243765185668, 0.669810941296417, 0.1339621882592834, 0.7898556077572771, 0.5845776531324919, 0.19485921771083065, 0.19485921771083065, 0.6008335163577448, 0.0751041895447181, 0.1502083790894362, 0.22531256863415433, 0.6599704119353512, 0.923261970726809, 0.5581086072022269, 0.27905430360111344, 0.9412778805606838, 0.8840177115743892, 0.9429956934429745, 0.9429956815931064, 0.2752388684480501, 0.5504777368961002, 0.1929809255860534, 0.5789427767581602, 0.1929809255860534, 0.7373512487989434, 0.14747024975978867, 0.14747024975978867, 0.2003932972061566, 0.2003932972061566, 0.6011798916184697, 0.7750547854554661, 0.19376369636386653, 0.25401714808580234, 0.25401714808580234, 0.3810257221287035, 0.12700857404290117, 0.6667365294427041, 0.13334730588854082, 0.13334730588854082, 0.13334730588854082, 0.9232619670173413, 0.3611885988796257, 0.22574287429976603, 0.31604002401967246, 0.04514857485995321, 0.09029714971990642, 0.1912182201708749, 0.7648728806834996, 0.9007199736671612, 0.9007199759043927, 0.6599813397457815, 0.21999377991526053, 0.11638331809507718, 0.5819165904753859, 0.23276663619015436, 0.11638331809507718, 0.43401526361609344, 0.17360610544643737, 0.3038106845312654, 0.08680305272321868, 0.2729741762190951, 0.5459483524381902, 0.13648708810954754, 0.9412778620651567, 0.9232619703743208, 0.27523867542842667, 0.5504773508568533, 0.9007199955123553, 0.9412778805606838, 0.2736599742909339, 0.5473199485818678, 0.1398749196737256, 0.1398749196737256, 0.1398749196737256, 0.5594996786949024, 0.27373526763417827, 0.13686763381708913, 0.5474705352683565, 0.13686763381708913, 0.6929569650336515, 0.1529781272118273, 0.3059562544236546, 0.1019854181412182, 0.3059562544236546, 0.1529781272118273, 0.9429956869790437, 0.4258207168721134, 0.2129103584360567, 0.14194023895737112, 0.07097011947868556, 0.14194023895737112, 0.11738231183713574, 0.23476462367427148, 0.11738231183713574, 0.46952924734854296, 0.937293827283093, 0.9232619670149845, 0.9429956800608793, 0.947316740689427, 0.29111702473368495, 0.2425975206114041, 0.2425975206114041, 0.09703900824456164, 0.14555851236684247, 0.7082157332691497, 0.6679523979118398, 0.08349404973897998, 0.16698809947795995, 0.16698809947795995, 0.9429957014236546, 0.19967245478104467, 0.13311496985402976, 0.2662299397080595, 0.39934490956208935, 0.6446645273438978, 0.10744408789064962, 0.16116613183597445, 0.10744408789064962, 0.9429956937793887, 0.7096747595724547, 0.9232619671715269, 0.9232619656302009, 0.942995684294776, 0.9232619691374837, 0.5996704906727734, 0.19989016355759115, 0.19989016355759115, 0.7082157366778251, 0.1981725311708215, 0.2972587967562323, 0.396345062341643, 0.09908626558541075, 0.9429956870406792, 0.44887558950244266, 0.20717334900112738, 0.20717334900112738, 0.0690577830003758, 0.0690577830003758, 0.7082157187517393, 0.9232619669290147, 0.22863477666245902, 0.3048463688832787, 0.15242318444163935, 0.3048463688832787, 0.13574322321227003, 0.5429728928490801, 0.27148644642454006, 0.13574322321227003, 0.08624346451371771, 0.2587303935411532, 0.34497385805487085, 0.17248692902743543, 0.17248692902743543, 0.15406930770278618, 0.6162772308111447, 0.15406930770278618, 0.15406930770278618, 0.9412778592848571, 0.2826366247904927, 0.5652732495809853, 0.7898007473304963, 0.20358310903787863, 0.8143324361515145, 0.05536281562777229, 0.387539709394406, 0.11072563125554458, 0.33217689376663373, 0.11072563125554458, 0.9429956944081495, 0.8840177551192424, 0.9232619691504707, 0.9412778720293735, 0.2626842507977808, 0.31522110095733696, 0.10507370031911233, 0.15761055047866848, 0.21014740063822465, 0.6739655467091795, 0.900719978496725, 0.6739655466998627, 0.9007199969151316, 0.9429956824983267, 0.900719982811462, 0.16317722462779133, 0.16317722462779133, 0.16317722462779133, 0.489531673883374, 0.5679732946272003, 0.2839866473136001, 0.1504005552780094, 0.6016022211120376, 0.1504005552780094, 0.1504005552780094, 0.18782175821317515, 0.1252145054754501, 0.4069471427952128, 0.18782175821317515, 0.09391087910658757, 0.3593166721341775, 0.27765379210368263, 0.11432803204269285, 0.16332576006098978, 0.09799545603659388, 0.923261967710867, 0.17573565677102274, 0.17573565677102274, 0.7029426270840909, 0.4708942930678363, 0.33904389100884214, 0.05650731516814036, 0.07534308689085381, 0.05650731516814036, 0.9007199774034369, 0.2185478841371463, 0.4370957682742926, 0.3278218262057194, 0.660012070833759, 0.220004023611253, 0.5789907715231973, 0.0964984619205329, 0.0964984619205329, 0.1929969238410658, 0.1929969238410658, 0.35880171342580713, 0.07176034268516143, 0.4305620561109686, 0.07176034268516143, 0.14352068537032286, 0.19674336287199473, 0.2459292035899934, 0.14755752215399603, 0.14755752215399603, 0.2459292035899934, 0.9232619674602324, 0.9412778805606838, 0.2760699978035617, 0.11042799912142467, 0.11042799912142467, 0.16564199868213703, 0.2760699978035617, 0.2559053660107638, 0.28433929556751536, 0.14216964778375768, 0.1706035773405092, 0.14216964778375768, 0.47592183437740554, 0.1586406114591352, 0.1586406114591352, 0.1586406114591352, 0.3576312552579525, 0.0715262510515905, 0.3576312552579525, 0.0715262510515905, 0.143052502103181, 0.2993435772188909, 0.2449174722700016, 0.2449174722700016, 0.05442610494888925, 0.16327831484666774, 0.15370822153349584, 0.15370822153349584, 0.4611246646004875, 0.3074164430669917, 0.18899759132590294, 0.23624698915737866, 0.2834963869888544, 0.1417481934944272, 0.1417481934944272, 0.9429956726452225, 0.7960528317507723, 0.1990132079376931, 0.9007199631999102, 0.49632545585735105, 0.1418072731021003, 0.21271090965315045, 0.07090363655105016, 0.1418072731021003, 0.5884193085318703, 0.29420965426593515, 0.04903494237765586, 0.04903494237765586, 0.278842520581556, 0.557685041163112, 0.21440224924222978, 0.30016314893912166, 0.0857608996968919, 0.12864134954533787, 0.25728269909067575, 0.6765029811514955, 0.22550099371716517, 0.9232619672840641, 0.9232619684644479, 0.27523853352562766, 0.5504770670512553, 0.22050005324764854, 0.22050005324764854, 0.055125013311912135, 0.1653750399357364, 0.3307500798714728, 0.6739655628169615, 0.8840177887933758, 0.9429956796260713, 0.4435771842622613, 0.1613007942771859, 0.22178859213113064, 0.08065039713859296, 0.1008129964232412, 0.24470198530810766, 0.35345842322282217, 0.1903237663507504, 0.027189109478678627, 0.1903237663507504, 0.9232619688198962, 0.1382901938301171, 0.6914509691505855, 0.1382901938301171, 0.8840176921325323, 0.6599865394450306, 0.21999551314834354, 0.9232619674310051, 0.34492417395360936, 0.17246208697680468, 0.5173862609304141, 0.38719589548626737, 0.09679897387156684, 0.38719589548626737, 0.09679897387156684, 0.884017775143598, 0.8840177872224602, 0.17465188136469673, 0.34930376272939345, 0.17465188136469673, 0.34930376272939345, 0.942995677048559, 0.8840177742677223, 0.7096747787639179, 0.20130935179135542, 0.6039280553740662, 0.20130935179135542, 0.18497598070579147, 0.4316106216468467, 0.12331732047052764, 0.06165866023526382, 0.12331732047052764, 0.09794359325406833, 0.48971796627034164, 0.3917743730162733, 0.9429956730655711, 0.43057700301277885, 0.10333848072306692, 0.12056156084357808, 0.12056156084357808, 0.223900041566645, 0.09875878816817489, 0.3456557585886121, 0.19751757633634978, 0.09875878816817489, 0.29627636450452466, 0.6603451255254822, 0.22011504184182742, 0.25422910040515784, 0.11963722372007429, 0.28413840633517645, 0.14954652965009285, 0.19441048854512072, 0.20780406785105188, 0.5195101696276297, 0.3117061017765778, 0.6272112610797281, 0.20907042035990936, 0.0696901401199698, 0.0696901401199698, 0.3881875254423399, 0.19409376272116996, 0.12939584181411332, 0.25879168362822663, 0.7320533249534815, 0.24401777498449387, 0.12200888749224693, 0.2753878417869973, 0.3365851399618856, 0.18359189452466487, 0.09179594726233244, 0.11219504665396188, 0.9412778736638371, 0.6599703532364122, 0.9429956698405011, 0.9412778736638371, 0.9412778805606838, 0.10294507034820947, 0.20589014069641895, 0.1544176055223142, 0.3088352110446284, 0.20589014069641895, 0.2817042915560442, 0.37560572207472565, 0.18780286103736282, 0.18780286103736282, 0.19121842595428132, 0.7648737038171253, 0.28003516235748754, 0.5600703247149751, 0.1860968238606751, 0.3721936477213502, 0.12406454924045007, 0.24812909848090015, 0.062032274620225036, 0.9412778805606838, 0.9429956698405011, 0.8840177588658282, 0.5883943137703901, 0.29419715688519504, 0.09806571896173169, 0.6599704093501769, 0.08837826250016016, 0.17675652500032032, 0.35351305000064065, 0.44189131250080077, 0.21433315648318876, 0.4286663129663775, 0.10716657824159438, 0.21433315648318876, 0.6374075097505476, 0.18211643135729932, 0.09105821567864966, 0.6739655576410192, 0.659970430551423, 0.1852519877833904, 0.3705039755667808, 0.1852519877833904, 0.06946949541877138, 0.1852519877833904, 0.09203569214335644, 0.2300892303583911, 0.36814276857342576, 0.18407138428671288, 0.09203569214335644, 0.937321932178548, 0.39862439439308667, 0.59793659158963, 0.23378141324360915, 0.7013442397308275, 0.659970406173759, 0.4140403798562503, 0.16561615194250012, 0.2760269199041669, 0.13801345995208344, 0.027602691990416685, 0.7566409501379466, 0.18916023753448666, 0.942995703781298, 0.6929450299113322, 0.7082157338141777, 0.3890803102394098, 0.06484671837323497, 0.4539270286126448, 0.12969343674646994, 0.2752384644521925, 0.550476928904385, 0.3033434719422096, 0.10111449064740322, 0.03370483021580107, 0.13481932086320428, 0.4381627928054139, 0.659970396801925, 0.941277853574881, 0.27366459128344545, 0.5473291825668909, 0.2752385239598305, 0.550477047919661, 0.7082157308459832, 0.15459210232177387, 0.15459210232177387, 0.30918420464354773, 0.07729605116088693, 0.3864802558044347, 0.9412778579438683, 0.08967351603349492, 0.22418379008373732, 0.1345102740502424, 0.1345102740502424, 0.40353082215072716, 0.9429956818628838, 0.28217268007607615, 0.5643453601521523, 0.12654580600647602, 0.25309161201295205, 0.12654580600647602, 0.5061832240259041, 0.12654580600647602, 0.2346062410193148, 0.7038187230579445, 0.28927175085089374, 0.1239736075075259, 0.41324535835841963, 0.16529814334336784, 0.6929549926736256, 0.2752386353710497, 0.5504772707420994, 0.6929549941684147, 0.8319125556304303, 0.9429956801618861, 0.6715174270475263, 0.33575871352376313, 0.7096747680285893, 0.7096747650280297, 0.5457235271569401, 0.27286176357847003, 0.8840177625902323, 0.6599704035421067, 0.9007199939463663, 0.43493667124346896, 0.28995778082897933, 0.14497889041448966, 0.14497889041448966, 0.9412778618758993, 0.9232619683622153, 0.6765022690731695, 0.22550075635772315, 0.23460878173453337, 0.7038263452036001, 0.28003511859689256, 0.5600702371937851, 0.6739674540205121, 0.9412778598829717, 0.6929549928825782, 0.9232619706031305, 0.8840177720282861, 0.09989643768033872, 0.4994821884016936, 0.29968931304101615, 0.09989643768033872, 0.6739618307704885, 0.900719978496725, 0.9429957014236546, 0.7096747830845125, 0.2784019206463667, 0.5568038412927334, 0.6599704269062636, 0.3643731823969373, 0.21862390943816237, 0.21862390943816237, 0.1457492729587749, 0.5679688933212795, 0.28398444666063977, 0.8840177720282861, 0.9412778805606838, 0.9429956817856789, 0.9007199917237766, 0.923261970531347, 0.11083481482131038, 0.22166962964262077, 0.22166962964262077, 0.22166962964262077, 0.22166962964262077, 0.4787499511551465, 0.1595833170517155, 0.07979165852585775, 0.319166634103431, 0.8514533769121138, 0.7403041790849143, 0.14806083581698284, 0.14806083581698284, 0.8840177720282861, 0.34138535646081325, 0.12801950867280498, 0.2133658477880083, 0.2133658477880083, 0.08534633911520331, 0.25746399297252415, 0.17164266198168276, 0.08582133099084138, 0.34328532396336553, 0.08582133099084138, 0.4059436302177864, 0.169143179257411, 0.2368004509603754, 0.1014859075544466, 0.0676572717029644, 0.6099136573679875, 0.40660910491199165, 0.2338928127637288, 0.2338928127637288, 0.4677856255274576, 0.2338928127637288, 0.9007199907960308, 0.9429956776326823, 0.15505391805967877, 0.15505391805967877, 0.15505391805967877, 0.15505391805967877, 0.4651617541790363, 0.1258125082416304, 0.1887187623624456, 0.3774375247248912, 0.1258125082416304, 0.1887187623624456, 0.33889657536871215, 0.28241381280726013, 0.16944828768435607, 0.11296552512290405, 0.11296552512290405, 0.8840177695606541, 0.9007199368406567, 0.6599704179123588, 0.6765023628559321, 0.22550078761864403, 0.8840177879126009, 0.327432830448157, 0.10914427681605235, 0.2182885536321047, 0.2182885536321047, 0.054572138408026175, 0.29977698262471075, 0.5995539652494215, 0.9412778805606838, 0.6082479388706115, 0.15206198471765286, 0.30412396943530573, 0.9007199924422138, 0.6739655404507738, 0.36364226883019524, 0.09091056720754881, 0.2727317016226464, 0.22727641801887202, 0.045455283603774405, 0.346539193667048, 0.173269596833524, 0.519808790500572, 0.11671124658144146, 0.2334224931628829, 0.11671124658144146, 0.5835562329072073, 0.9007199899752736, 0.297197305146693, 0.1188789220586772, 0.3566367661760316, 0.0594394610293386, 0.1783183830880158, 0.2924738678889785, 0.584947735777957, 0.09749128929632615, 0.9412778621576905, 0.6732683120084322, 0.2693073248033729, 0.9412778671952798, 0.9412778524086616, 0.6796777810534012, 0.22655926035113372, 0.659970416032732, 0.9412778657287182, 0.9232619673461355, 0.3381513207496796, 0.2630065828053063, 0.2254342138331197, 0.07514473794437324, 0.07514473794437324, 0.2800353730705186, 0.5600707461410372, 0.22862115149003248, 0.6858634544700974, 0.9232619661673782, 0.9007199959091465, 0.21336002549626287, 0.21336002549626287, 0.42672005099252575, 0.181664747819844, 0.121109831879896, 0.363329495639688, 0.30277457969974, 0.9007199970687008, 0.4436881502350953, 0.11831684006269208, 0.05915842003134604, 0.20705447010971115, 0.1478960500783651, 0.5619086130746391, 0.14047715326865978, 0.21071572990298967, 0.07023857663432989, 0.9007199872468803, 0.9412778682032226, 0.6599704093258625, 0.22611501027771558, 0.2967759509895017, 0.07066094071178612, 0.2402471984200728, 0.15545406956592947, 0.15517945740092073, 0.15517945740092073, 0.10345297160061381, 0.10345297160061381, 0.5172648580030691, 0.3435947416300018, 0.13743789665200074, 0.06871894832600037, 0.2061568449780011, 0.27487579330400147, 0.09829373348960606, 0.39317493395842423, 0.14744060023440908, 0.14744060023440908, 0.19658746697921212, 0.21454610463325743, 0.45834849626195906, 0.13652933931207292, 0.06826466965603646, 0.12677724364692486], \"Term\": [\"20\", \"accompanies\", \"accuses\", \"actors\", \"adores\", \"afloat\", \"alcohol\", \"alcoholic\", \"ambition\", \"ambitious\", \"ambitious\", \"ambitious\", \"appears\", \"art\", \"art\", \"art\", \"aspiring\", \"aspiring\", \"aspiring\", \"aspiring\", \"assassin\", \"assistant\", \"bachelors\", \"bachelors\", \"bal\", \"barber\", \"barriers\", \"beach\", \"believe\", \"believe\", \"beloved\", \"beloved\", \"beloved\", \"bheem\", \"bheem\", \"bheem\", \"big\", \"big\", \"big\", \"birth\", \"birth\", \"bollywood\", \"bollywood\", \"bollywood\", \"bollywood\", \"boss\", \"boss\", \"boss\", \"boss\", \"boxer\", \"boy\", \"boy\", \"boy\", \"boy\", \"boy\", \"boys\", \"boys\", \"brajbhan\", \"brave\", \"breaking\", \"breaking\", \"bring\", \"bring\", \"bring\", \"bring\", \"brother\", \"brother\", \"brother\", \"brother\", \"businessman\", \"businessman\", \"businessman\", \"bygone\", \"camp\", \"canada\", \"canada\", \"carries\", \"cartoonist\", \"cash\", \"cash\", \"caught\", \"caught\", \"caught\", \"caught\", \"chance\", \"chance\", \"chance\", \"chance\", \"chennai\", \"city\", \"city\", \"city\", \"city\", \"city\", \"club\", \"college\", \"college\", \"college\", \"college\", \"college\", \"comes\", \"comes\", \"comes\", \"comes\", \"commit\", \"concerned\", \"contemporary\", \"controversial\", \"cop\", \"cop\", \"cop\", \"cop\", \"cop\", \"corporate\", \"corruption\", \"corruption\", \"corruption\", \"corruption\", \"cost\", \"couple\", \"couple\", \"couple\", \"couple\", \"crime\", \"crime\", \"crime\", \"crime\", \"crooked\", \"crooks\", \"crosses\", \"crushes\", \"cultural\", \"dad\", \"dancer\", \"dancer\", \"dancer\", \"dare\", \"dark\", \"dark\", \"dark\", \"dark\", \"dating\", \"daughter\", \"daughter\", \"daughter\", \"daughter\", \"daughter\", \"daughters\", \"deals\", \"death\", \"death\", \"death\", \"death\", \"decide\", \"decide\", \"decide\", \"decide\", \"delhi\", \"delhi\", \"delhi\", \"delhi\", \"delhi\", \"desperate\", \"desperate\", \"desperate\", \"desperate\", \"determination\", \"devoted\", \"devoted\", \"didn\", \"differences\", \"differences\", \"different\", \"different\", \"different\", \"different\", \"different\", \"disapproving\", \"dismay\", \"disrupted\", \"does\", \"drama\", \"drama\", \"drama\", \"drama\", \"drama\", \"earn\", \"easier\", \"embark\", \"employer\", \"entanglements\", \"equally\", \"face\", \"face\", \"face\", \"face\", \"fact\", \"fact\", \"falling\", \"falling\", \"falling\", \"falling\", \"falls\", \"falls\", \"falls\", \"falls\", \"falls\", \"family\", \"family\", \"family\", \"family\", \"family\", \"famous\", \"far\", \"far\", \"far\", \"father\", \"father\", \"father\", \"father\", \"father\", \"fatka\", \"feelings\", \"feelings\", \"feelings\", \"festival\", \"festival\", \"fight\", \"fight\", \"fight\", \"fight\", \"fight\", \"film\", \"film\", \"film\", \"film\", \"film\", \"finds\", \"finds\", \"finds\", \"finds\", \"finds\", \"fiza\", \"founder\", \"friend\", \"friend\", \"friend\", \"friend\", \"friend\", \"friends\", \"friends\", \"friends\", \"friends\", \"friends\", \"gangster\", \"gangster\", \"gangster\", \"gangster\", \"gets\", \"gets\", \"gets\", \"gets\", \"gets\", \"girl\", \"girl\", \"girl\", \"girl\", \"girl\", \"girlfriend\", \"girlfriend\", \"girlfriend\", \"girlfriend\", \"goes\", \"goes\", \"goes\", \"goes\", \"goes\", \"grad\", \"grandfather\", \"grandfather\", \"half\", \"heart\", \"heart\", \"heart\", \"heart\", \"heart\", \"help\", \"help\", \"help\", \"help\", \"hindu\", \"hindu\", \"home\", \"home\", \"home\", \"home\", \"home\", \"hoping\", \"hoping\", \"horizon\", \"horrifying\", \"horror\", \"horror\", \"husband\", \"husband\", \"husband\", \"husband\", \"husband\", \"iconic\", \"improve\", \"impulsive\", \"india\", \"india\", \"india\", \"india\", \"india\", \"indian\", \"indian\", \"indian\", \"indian\", \"indian\", \"interwoven\", \"investigation\", \"investigation\", \"investigation\", \"jazz\", \"jealous\", \"jealous\", \"jhanvi\", \"just\", \"just\", \"just\", \"justice\", \"justice\", \"justice\", \"justice\", \"karan\", \"kids\", \"killer\", \"killer\", \"killer\", \"killer\", \"knows\", \"kumar\", \"late\", \"later\", \"later\", \"later\", \"leads\", \"leads\", \"leads\", \"leads\", \"leads\", \"leaves\", \"leaves\", \"leaves\", \"level\", \"life\", \"life\", \"life\", \"life\", \"life\", \"lives\", \"lives\", \"lives\", \"lives\", \"lives\", \"losing\", \"losing\", \"love\", \"love\", \"love\", \"love\", \"love\", \"lover\", \"lover\", \"lover\", \"loves\", \"loves\", \"loves\", \"loves\", \"make\", \"make\", \"make\", \"make\", \"makes\", \"makes\", \"makes\", \"man\", \"man\", \"man\", \"man\", \"man\", \"manav\", \"manisha\", \"mannered\", \"mansi\", \"maps\", \"marriage\", \"marriage\", \"marriage\", \"marriage\", \"marriage\", \"marry\", \"marry\", \"marry\", \"marry\", \"match\", \"match\", \"meeting\", \"meeting\", \"men\", \"men\", \"men\", \"men\", \"men\", \"meteoric\", \"mild\", \"mini\", \"mission\", \"mission\", \"mission\", \"mob\", \"modern\", \"modern\", \"modern\", \"modern\", \"money\", \"money\", \"money\", \"money\", \"moves\", \"moves\", \"moves\", \"moving\", \"multiple\", \"mumbai\", \"mumbai\", \"mumbai\", \"mumbai\", \"mumbai\", \"murder\", \"murder\", \"murder\", \"murder\", \"murder\", \"murdered\", \"murders\", \"murders\", \"muslim\", \"muslim\", \"named\", \"new\", \"new\", \"new\", \"new\", \"new\", \"notorious\", \"notorious\", \"nursing\", \"obtain\", \"offer\", \"officer\", \"officer\", \"officer\", \"officer\", \"official\", \"official\", \"old\", \"old\", \"old\", \"old\", \"old\", \"omi\", \"oppressive\", \"orphan\", \"orphan\", \"orphaned\", \"orphaned\", \"painter\", \"parents\", \"parents\", \"parents\", \"parents\", \"parents\", \"passed\", \"past\", \"past\", \"past\", \"past\", \"past\", \"patient\", \"peace\", \"peace\", \"personal\", \"personal\", \"personal\", \"personal\", \"personal\", \"poet\", \"poet\", \"police\", \"police\", \"police\", \"police\", \"policeman\", \"poses\", \"poses\", \"position\", \"prime\", \"prized\", \"professor\", \"professor\", \"property\", \"psychiatrist\", \"radio\", \"radio\", \"rajesh\", \"reach\", \"recruits\", \"relationship\", \"relationship\", \"relationship\", \"relationship\", \"remake\", \"restaurant\", \"return\", \"return\", \"returning\", \"returning\", \"right\", \"right\", \"ring\", \"riya\", \"robbery\", \"rogue\", \"roommate\", \"run\", \"run\", \"run\", \"run\", \"saga\", \"said\", \"sanitary\", \"scam\", \"schemes\", \"schemes\", \"scheming\", \"search\", \"search\", \"search\", \"search\", \"second\", \"second\", \"seema\", \"sena\", \"sentenced\", \"sequel\", \"serves\", \"set\", \"set\", \"set\", \"set\", \"set\", \"sets\", \"sets\", \"sets\", \"sets\", \"shady\", \"shy\", \"shy\", \"shy\", \"sid\", \"small\", \"small\", \"small\", \"small\", \"small\", \"social\", \"social\", \"social\", \"social\", \"social\", \"son\", \"son\", \"son\", \"son\", \"son\", \"sons\", \"sons\", \"stand\", \"stand\", \"stand\", \"stand\", \"stepfather\", \"stigma\", \"stolen\", \"stolen\", \"stolen\", \"stolen\", \"stolen\", \"stories\", \"stories\", \"stories\", \"stories\", \"stories\", \"story\", \"story\", \"story\", \"story\", \"story\", \"stunned\", \"subramaniam\", \"successful\", \"suicide\", \"suicide\", \"surya\", \"takes\", \"takes\", \"takes\", \"takes\", \"takes\", \"teacher\", \"teacher\", \"thackeray\", \"threatens\", \"threatens\", \"threatens\", \"throne\", \"toe\", \"town\", \"town\", \"town\", \"town\", \"town\", \"tragic\", \"tragic\", \"tragic\", \"troubled\", \"troubled\", \"troubled\", \"troubled\", \"troupe\", \"true\", \"true\", \"true\", \"true\", \"true\", \"truth\", \"truth\", \"truth\", \"twist\", \"underworld\", \"underworld\", \"unearth\", \"unethical\", \"vacation\", \"vacation\", \"valuable\", \"variety\", \"various\", \"village\", \"village\", \"village\", \"village\", \"village\", \"villager\", \"villager\", \"vows\", \"vows\", \"vying\", \"wake\", \"war\", \"war\", \"war\", \"way\", \"way\", \"way\", \"way\", \"widower\", \"wife\", \"wife\", \"wife\", \"wife\", \"wife\", \"win\", \"win\", \"win\", \"win\", \"winner\", \"wisdom\", \"wishes\", \"woman\", \"woman\", \"woman\", \"woman\", \"woman\", \"women\", \"women\", \"women\", \"women\", \"women\", \"year\", \"year\", \"year\", \"year\", \"year\", \"years\", \"years\", \"years\", \"years\", \"years\", \"young\", \"young\", \"young\", \"young\", \"young\"]}, \"R\": 30, \"lambda.step\": 0.01, \"plot.opts\": {\"xlab\": \"PC1\", \"ylab\": \"PC2\"}, \"topic.order\": [4, 1, 5, 3, 2]};\n",
              "\n",
              "function LDAvis_load_lib(url, callback){\n",
              "  var s = document.createElement('script');\n",
              "  s.src = url;\n",
              "  s.async = true;\n",
              "  s.onreadystatechange = s.onload = callback;\n",
              "  s.onerror = function(){console.warn(\"failed to load library \" + url);};\n",
              "  document.getElementsByTagName(\"head\")[0].appendChild(s);\n",
              "}\n",
              "\n",
              "if(typeof(LDAvis) !== \"undefined\"){\n",
              "   // already loaded: just create the visualization\n",
              "   !function(LDAvis){\n",
              "       new LDAvis(\"#\" + \"ldavis_el581405022498207521590926267\", ldavis_el581405022498207521590926267_data);\n",
              "   }(LDAvis);\n",
              "}else if(typeof define === \"function\" && define.amd){\n",
              "   // require.js is available: use it to load d3/LDAvis\n",
              "   require.config({paths: {d3: \"https://d3js.org/d3.v5\"}});\n",
              "   require([\"d3\"], function(d3){\n",
              "      window.d3 = d3;\n",
              "      LDAvis_load_lib(\"https://cdn.jsdelivr.net/gh/bmabey/pyLDAvis@3.3.1/pyLDAvis/js/ldavis.v3.0.0.js\", function(){\n",
              "        new LDAvis(\"#\" + \"ldavis_el581405022498207521590926267\", ldavis_el581405022498207521590926267_data);\n",
              "      });\n",
              "    });\n",
              "}else{\n",
              "    // require.js not available: dynamically load d3 & LDAvis\n",
              "    LDAvis_load_lib(\"https://d3js.org/d3.v5.js\", function(){\n",
              "         LDAvis_load_lib(\"https://cdn.jsdelivr.net/gh/bmabey/pyLDAvis@3.3.1/pyLDAvis/js/ldavis.v3.0.0.js\", function(){\n",
              "                 new LDAvis(\"#\" + \"ldavis_el581405022498207521590926267\", ldavis_el581405022498207521590926267_data);\n",
              "            })\n",
              "         });\n",
              "}\n",
              "</script>"
            ]
          },
          "metadata": {},
          "execution_count": 47
        },
        {
          "output_type": "display_data",
          "data": {
            "text/plain": [
              "<Figure size 2232x1440 with 6 Axes>"
            ],
            "image/png": "[encoded data removed]"
          },
          "metadata": {
            "needs_background": "light"
          }
        }
      ]
    },
    {
      "cell_type": "markdown",
      "source": [
        "### K-Means Clustering"
      ],
      "metadata": {
        "id": "KSVnEYr4Aukf"
      }
    },
    {
      "cell_type": "markdown",
      "source": [
        "Prior to creating the k-means clustering model perform data featuring such as:\n",
        "* Fill NaN values with 'Other' value.\n",
        "* Creating dummies of listed_in columns.\n",
        "* Dropping 'show_id', 'title', 'director', 'cast', 'country', 'date_added', 'duration', 'description', 'month_added' features."
      ],
      "metadata": {
        "id": "sF5Oj2dx9YOA"
      }
    },
    {
      "cell_type": "code",
      "source": [
        "netlix_df_kmeans = netflix_df1.copy()"
      ],
      "metadata": {
        "id": "_Xz6nPh4xEoc"
      },
      "execution_count": 46,
      "outputs": []
    },
    {
      "cell_type": "code",
      "source": [
        "netlix_df_kmeans.drop(['show_id', 'title', 'director', 'cast', 'country', 'date_added', 'duration', 'description', 'month_added'], axis = 1, inplace = True)"
      ],
      "metadata": {
        "id": "X2aPUYinxaAY"
      },
      "execution_count": 48,
      "outputs": []
    },
    {
      "cell_type": "markdown",
      "source": [
        "The dataset contains many unique directors, actors, and countries that are too many to include, so I drop them."
      ],
      "metadata": {
        "id": "tLIQOnd5BIp2"
      }
    },
    {
      "cell_type": "code",
      "source": [
        "# Fill missing country entries with United States\n",
        "netlix_df_kmeans.fillna('Other', inplace=True)\n",
        "netlix_df_kmeans.listed_in = netlix_df_kmeans.listed_in.str.split(', ').tolist()"
      ],
      "metadata": {
        "id": "BrcC623Vxf_w"
      },
      "execution_count": 49,
      "outputs": []
    },
    {
      "cell_type": "code",
      "source": [
        "# Create the MultiLabelBinarizer \n",
        "mlb = MultiLabelBinarizer()\n",
        "\n",
        "# Encode each genre and join to dataframe\n",
        "mlb_df = netlix_df_kmeans.join(pd.DataFrame(mlb.fit_transform(netlix_df_kmeans.pop('listed_in')),\n",
        "                                              columns=mlb.classes_,\n",
        "                                              index=netlix_df_kmeans.index))"
      ],
      "metadata": {
        "id": "MECghX4Rxkd5"
      },
      "execution_count": 50,
      "outputs": []
    },
    {
      "cell_type": "code",
      "source": [
        "mlb_df = pd.get_dummies(mlb_df)"
      ],
      "metadata": {
        "id": "3fWlJ1-Fx9-k"
      },
      "execution_count": 51,
      "outputs": []
    },
    {
      "cell_type": "markdown",
      "source": [
        "Finding the best fit for k means clustering."
      ],
      "metadata": {
        "id": "Kc_YS51SAA3f"
      }
    },
    {
      "cell_type": "markdown",
      "source": [
        "**Create (K-Means) Clusters**"
      ],
      "metadata": {
        "id": "GZ6d61nhB-c4"
      }
    },
    {
      "cell_type": "code",
      "source": [
        "scaler = MinMaxScaler()\n",
        "sc = scaler.fit_transform(mlb_df)\n",
        "netflix_df_kmean = pd.DataFrame(sc, columns=list(mlb_df.columns))\n",
        "\n",
        "Nc = range(2, 35)\n",
        "kmeans = [KMeans(n_clusters=i, init = 'k-means++') for i in Nc]\n",
        "score = [kmeans[i].fit(netflix_df_kmean).score(netflix_df_kmean) for i in range(len(kmeans))]"
      ],
      "metadata": {
        "id": "7PMJ6GzGyRG_"
      },
      "execution_count": 52,
      "outputs": []
    },
    {
      "cell_type": "code",
      "source": [
        "plt.plot(Nc, score)\n",
        "  \n",
        "# naming the x axis\n",
        "plt.xlabel('Number of clusters')\n",
        "# naming the y axis\n",
        "plt.ylabel('score')\n",
        "  \n",
        "# giving a title to my graph\n",
        "plt.title('Elbow Curve')"
      ],
      "metadata": {
        "colab": {
          "base_uri": "https://localhost:8080/",
          "height": 313
        },
        "id": "K_3w_AjwyV3Y",
        "outputId": "43b59709-658c-4e43-adbf-5ea198c97dbb"
      },
      "execution_count": 56,
      "outputs": [
        {
          "output_type": "execute_result",
          "data": {
            "text/plain": [
              "Text(0.5, 1.0, 'Elbow Curve')"
            ]
          },
          "metadata": {},
          "execution_count": 56
        },
        {
          "output_type": "display_data",
          "data": {
            "text/plain": [
              "<Figure size 432x288 with 1 Axes>"
            ],
            "image/png": "[encoded data removed]"
          },
          "metadata": {
            "needs_background": "light"
          }
        }
      ]
    },
    {
      "cell_type": "markdown",
      "source": [
        "From the elbow curve, it seems to be optimal to choose 20 clusters."
      ],
      "metadata": {
        "id": "8C_QeOGxAgMJ"
      }
    },
    {
      "cell_type": "code",
      "source": [
        "#fitting\n",
        "kmeans = KMeans(n_clusters=20)\n",
        "kmeans.fit(netflix_df_kmean)\n",
        "netflix_df_kmean['cluster'] = kmeans.labels_"
      ],
      "metadata": {
        "id": "I5SY72pjydbO"
      },
      "execution_count": 57,
      "outputs": []
    },
    {
      "cell_type": "code",
      "source": [
        "plt.figure(figsize=(12,7))\n",
        "plt = sns.countplot(netflix_df_kmean['cluster'])\n",
        "plt.set_xlabel(\"Cluster Number\")\n",
        "plt.set_ylabel(\"Data in a cluster\")"
      ],
      "metadata": {
        "colab": {
          "base_uri": "https://localhost:8080/",
          "height": 460
        },
        "id": "5WqOGdgZyxh3",
        "outputId": "6d7f2403-dad5-4d18-cb50-c036d888f9e7"
      },
      "execution_count": 58,
      "outputs": [
        {
          "output_type": "execute_result",
          "data": {
            "text/plain": [
              "Text(0, 0.5, 'Data in a cluster')"
            ]
          },
          "metadata": {},
          "execution_count": 58
        },
        {
          "output_type": "display_data",
          "data": {
            "text/plain": [
              "<Figure size 864x504 with 1 Axes>"
            ],
            "image/png": "[encoded data removed]"
          },
          "metadata": {
            "needs_background": "light"
          }
        }
      ]
    },
    {
      "cell_type": "markdown",
      "source": [
        "Testing K-Means"
      ],
      "metadata": {
        "id": "gemPUtMn7EZK"
      }
    },
    {
      "cell_type": "markdown",
      "source": [
        "Testing the k-means clustering model using one of the movies, 50 First Dates."
      ],
      "metadata": {
        "id": "vREALWpz7LwE"
      }
    },
    {
      "cell_type": "code",
      "source": [
        "# Get cluster number from given movie or TV show\n",
        "cluster_num = netflix_df_kmean[netflix_df1.title=='50 First Dates'].cluster.item()\n",
        "\n",
        "# View cluster the movie or TV show belongs to\n",
        "netflix_df1[netflix_df_kmean.cluster == cluster_num]"
      ],
      "metadata": {
        "colab": {
          "base_uri": "https://localhost:8080/",
          "height": 1000
        },
        "id": "adRX7Mi-y4rz",
        "outputId": "dad6cde4-e382-4686-ec34-87ead129a17a"
      },
      "execution_count": 59,
      "outputs": [
        {
          "output_type": "execute_result",
          "data": {
            "text/plain": [
              "     show_id   type                    title         director  \\\n",
              "3         s4  Movie                        9      Shane Acker   \n",
              "4         s5  Movie                       21   Robert Luketic   \n",
              "44       s45  Movie                 Æon Flux     Karyn Kusama   \n",
              "50       s51  Movie              10,000 B.C.  Roland Emmerich   \n",
              "70       s72  Movie                16 Blocks   Richard Donner   \n",
              "...      ...    ...                      ...              ...   \n",
              "7664   s7682  Movie               Wyatt Earp  Lawrence Kasdan   \n",
              "7671   s7689  Movie                      XXx        Rob Cohen   \n",
              "7672   s7690  Movie  XXX: State of the Union     Lee Tamahori   \n",
              "7688   s7706  Movie                  Yes Man      Peyton Reed   \n",
              "7697   s7715  Movie              Yoga Hosers      Kevin Smith   \n",
              "\n",
              "                                                   cast  \\\n",
              "3     Elijah Wood, John C. Reilly, Jennifer Connelly...   \n",
              "4     Jim Sturgess, Kevin Spacey, Kate Bosworth, Aar...   \n",
              "44    Charlize Theron, Marton Csokas, Jonny Lee Mill...   \n",
              "50    Steven Strait, Camilla Belle, Cliff Curtis, Jo...   \n",
              "70    Bruce Willis, Mos Def, David Morse, Jenna Ster...   \n",
              "...                                                 ...   \n",
              "7664  Kevin Costner, Dennis Quaid, Gene Hackman, Dav...   \n",
              "7671  Vin Diesel, Asia Argento, Marton Csokas, Samue...   \n",
              "7672  Ice Cube, Samuel L. Jackson, Willem Dafoe, Sco...   \n",
              "7688  Jim Carrey, Zooey Deschanel, Bradley Cooper, J...   \n",
              "7697  Harley Quinn Smith, Lily-Rose Depp, Johnny Dep...   \n",
              "\n",
              "                            country date_added  release_year rating duration  \\\n",
              "3                     United States 2017-11-16          2009  PG-13   80 min   \n",
              "4                     United States 2020-01-01          2008  PG-13  123 min   \n",
              "44                    United States 2018-02-01          2005  PG-13   93 min   \n",
              "50      United States, South Africa 2019-06-01          2008  PG-13  109 min   \n",
              "70           United States, Germany 2019-11-01          2006  PG-13  102 min   \n",
              "...                             ...        ...           ...    ...      ...   \n",
              "7664                  United States 2020-01-01          1994  PG-13  191 min   \n",
              "7671                  United States 2019-01-01          2002  PG-13  124 min   \n",
              "7672                  United States 2019-01-01          2005  PG-13  101 min   \n",
              "7688  United States, United Kingdom 2020-01-01          2008  PG-13  104 min   \n",
              "7697                  United States 2016-12-02          2016  PG-13   88 min   \n",
              "\n",
              "                                              listed_in  \\\n",
              "3     Action & Adventure, Independent Movies, Sci-Fi...   \n",
              "4                                                Dramas   \n",
              "44                 Action & Adventure, Sci-Fi & Fantasy   \n",
              "50                                   Action & Adventure   \n",
              "70                                   Action & Adventure   \n",
              "...                                                 ...   \n",
              "7664                                 Action & Adventure   \n",
              "7671                  Action & Adventure, Sports Movies   \n",
              "7672                                 Action & Adventure   \n",
              "7688                          Comedies, Romantic Movies   \n",
              "7697        Comedies, Horror Movies, Independent Movies   \n",
              "\n",
              "                                            description  month_added  \\\n",
              "3     In a postapocalyptic world, rag-doll robots hi...           11   \n",
              "4     A brilliant group of students become card-coun...            1   \n",
              "44    Aiming to hasten an uprising, the leader of an...            2   \n",
              "50    Fierce mammoth hunter D'Leh sets out on an imp...            6   \n",
              "70    Tasked with escorting a prosecution witness to...           11   \n",
              "...                                                 ...          ...   \n",
              "7664  Legendary lawman Wyatt Earp is continually at ...            1   \n",
              "7671  A notorious underground rush-seeker deemed unt...            1   \n",
              "7672  In this action-packed follow-up to XXX, U.S. i...            1   \n",
              "7688  After a bitter divorce, a bank drone falls und...            1   \n",
              "7697  With an all-important high school party at sta...           12   \n",
              "\n",
              "      year_added  \n",
              "3           2017  \n",
              "4           2020  \n",
              "44          2018  \n",
              "50          2019  \n",
              "70          2019  \n",
              "...          ...  \n",
              "7664        2020  \n",
              "7671        2019  \n",
              "7672        2019  \n",
              "7688        2020  \n",
              "7697        2016  \n",
              "\n",
              "[357 rows x 14 columns]"
            ],
            "text/html": [
              "\n",
              "  <div id=\"df-7acc2b20-da32-4b3d-b05b-0a538dbe6730\">\n",
              "    <div class=\"colab-df-container\">\n",
              "      <div>\n",
              "<style scoped>\n",
              "    .dataframe tbody tr th:only-of-type {\n",
              "        vertical-align: middle;\n",
              "    }\n",
              "\n",
              "    .dataframe tbody tr th {\n",
              "        vertical-align: top;\n",
              "    }\n",
              "\n",
              "    .dataframe thead th {\n",
              "        text-align: right;\n",
              "    }\n",
              "</style>\n",
              "<table border=\"1\" class=\"dataframe\">\n",
              "  <thead>\n",
              "    <tr style=\"text-align: right;\">\n",
              "      <th></th>\n",
              "      <th>show_id</th>\n",
              "      <th>type</th>\n",
              "      <th>title</th>\n",
              "      <th>director</th>\n",
              "      <th>cast</th>\n",
              "      <th>country</th>\n",
              "      <th>date_added</th>\n",
              "      <th>release_year</th>\n",
              "      <th>rating</th>\n",
              "      <th>duration</th>\n",
              "      <th>listed_in</th>\n",
              "      <th>description</th>\n",
              "      <th>month_added</th>\n",
              "      <th>year_added</th>\n",
              "    </tr>\n",
              "  </thead>\n",
              "  <tbody>\n",
              "    <tr>\n",
              "      <th>3</th>\n",
              "      <td>s4</td>\n",
              "      <td>Movie</td>\n",
              "      <td>9</td>\n",
              "      <td>Shane Acker</td>\n",
              "      <td>Elijah Wood, John C. Reilly, Jennifer Connelly...</td>\n",
              "      <td>United States</td>\n",
              "      <td>2017-11-16</td>\n",
              "      <td>2009</td>\n",
              "      <td>PG-13</td>\n",
              "      <td>80 min</td>\n",
              "      <td>Action &amp; Adventure, Independent Movies, Sci-Fi...</td>\n",
              "      <td>In a postapocalyptic world, rag-doll robots hi...</td>\n",
              "      <td>11</td>\n",
              "      <td>2017</td>\n",
              "    </tr>\n",
              "    <tr>\n",
              "      <th>4</th>\n",
              "      <td>s5</td>\n",
              "      <td>Movie</td>\n",
              "      <td>21</td>\n",
              "      <td>Robert Luketic</td>\n",
              "      <td>Jim Sturgess, Kevin Spacey, Kate Bosworth, Aar...</td>\n",
              "      <td>United States</td>\n",
              "      <td>2020-01-01</td>\n",
              "      <td>2008</td>\n",
              "      <td>PG-13</td>\n",
              "      <td>123 min</td>\n",
              "      <td>Dramas</td>\n",
              "      <td>A brilliant group of students become card-coun...</td>\n",
              "      <td>1</td>\n",
              "      <td>2020</td>\n",
              "    </tr>\n",
              "    <tr>\n",
              "      <th>44</th>\n",
              "      <td>s45</td>\n",
              "      <td>Movie</td>\n",
              "      <td>Æon Flux</td>\n",
              "      <td>Karyn Kusama</td>\n",
              "      <td>Charlize Theron, Marton Csokas, Jonny Lee Mill...</td>\n",
              "      <td>United States</td>\n",
              "      <td>2018-02-01</td>\n",
              "      <td>2005</td>\n",
              "      <td>PG-13</td>\n",
              "      <td>93 min</td>\n",
              "      <td>Action &amp; Adventure, Sci-Fi &amp; Fantasy</td>\n",
              "      <td>Aiming to hasten an uprising, the leader of an...</td>\n",
              "      <td>2</td>\n",
              "      <td>2018</td>\n",
              "    </tr>\n",
              "    <tr>\n",
              "      <th>50</th>\n",
              "      <td>s51</td>\n",
              "      <td>Movie</td>\n",
              "      <td>10,000 B.C.</td>\n",
              "      <td>Roland Emmerich</td>\n",
              "      <td>Steven Strait, Camilla Belle, Cliff Curtis, Jo...</td>\n",
              "      <td>United States, South Africa</td>\n",
              "      <td>2019-06-01</td>\n",
              "      <td>2008</td>\n",
              "      <td>PG-13</td>\n",
              "      <td>109 min</td>\n",
              "      <td>Action &amp; Adventure</td>\n",
              "      <td>Fierce mammoth hunter D'Leh sets out on an imp...</td>\n",
              "      <td>6</td>\n",
              "      <td>2019</td>\n",
              "    </tr>\n",
              "    <tr>\n",
              "      <th>70</th>\n",
              "      <td>s72</td>\n",
              "      <td>Movie</td>\n",
              "      <td>16 Blocks</td>\n",
              "      <td>Richard Donner</td>\n",
              "      <td>Bruce Willis, Mos Def, David Morse, Jenna Ster...</td>\n",
              "      <td>United States, Germany</td>\n",
              "      <td>2019-11-01</td>\n",
              "      <td>2006</td>\n",
              "      <td>PG-13</td>\n",
              "      <td>102 min</td>\n",
              "      <td>Action &amp; Adventure</td>\n",
              "      <td>Tasked with escorting a prosecution witness to...</td>\n",
              "      <td>11</td>\n",
              "      <td>2019</td>\n",
              "    </tr>\n",
              "    <tr>\n",
              "      <th>...</th>\n",
              "      <td>...</td>\n",
              "      <td>...</td>\n",
              "      <td>...</td>\n",
              "      <td>...</td>\n",
              "      <td>...</td>\n",
              "      <td>...</td>\n",
              "      <td>...</td>\n",
              "      <td>...</td>\n",
              "      <td>...</td>\n",
              "      <td>...</td>\n",
              "      <td>...</td>\n",
              "      <td>...</td>\n",
              "      <td>...</td>\n",
              "      <td>...</td>\n",
              "    </tr>\n",
              "    <tr>\n",
              "      <th>7664</th>\n",
              "      <td>s7682</td>\n",
              "      <td>Movie</td>\n",
              "      <td>Wyatt Earp</td>\n",
              "      <td>Lawrence Kasdan</td>\n",
              "      <td>Kevin Costner, Dennis Quaid, Gene Hackman, Dav...</td>\n",
              "      <td>United States</td>\n",
              "      <td>2020-01-01</td>\n",
              "      <td>1994</td>\n",
              "      <td>PG-13</td>\n",
              "      <td>191 min</td>\n",
              "      <td>Action &amp; Adventure</td>\n",
              "      <td>Legendary lawman Wyatt Earp is continually at ...</td>\n",
              "      <td>1</td>\n",
              "      <td>2020</td>\n",
              "    </tr>\n",
              "    <tr>\n",
              "      <th>7671</th>\n",
              "      <td>s7689</td>\n",
              "      <td>Movie</td>\n",
              "      <td>XXx</td>\n",
              "      <td>Rob Cohen</td>\n",
              "      <td>Vin Diesel, Asia Argento, Marton Csokas, Samue...</td>\n",
              "      <td>United States</td>\n",
              "      <td>2019-01-01</td>\n",
              "      <td>2002</td>\n",
              "      <td>PG-13</td>\n",
              "      <td>124 min</td>\n",
              "      <td>Action &amp; Adventure, Sports Movies</td>\n",
              "      <td>A notorious underground rush-seeker deemed unt...</td>\n",
              "      <td>1</td>\n",
              "      <td>2019</td>\n",
              "    </tr>\n",
              "    <tr>\n",
              "      <th>7672</th>\n",
              "      <td>s7690</td>\n",
              "      <td>Movie</td>\n",
              "      <td>XXX: State of the Union</td>\n",
              "      <td>Lee Tamahori</td>\n",
              "      <td>Ice Cube, Samuel L. Jackson, Willem Dafoe, Sco...</td>\n",
              "      <td>United States</td>\n",
              "      <td>2019-01-01</td>\n",
              "      <td>2005</td>\n",
              "      <td>PG-13</td>\n",
              "      <td>101 min</td>\n",
              "      <td>Action &amp; Adventure</td>\n",
              "      <td>In this action-packed follow-up to XXX, U.S. i...</td>\n",
              "      <td>1</td>\n",
              "      <td>2019</td>\n",
              "    </tr>\n",
              "    <tr>\n",
              "      <th>7688</th>\n",
              "      <td>s7706</td>\n",
              "      <td>Movie</td>\n",
              "      <td>Yes Man</td>\n",
              "      <td>Peyton Reed</td>\n",
              "      <td>Jim Carrey, Zooey Deschanel, Bradley Cooper, J...</td>\n",
              "      <td>United States, United Kingdom</td>\n",
              "      <td>2020-01-01</td>\n",
              "      <td>2008</td>\n",
              "      <td>PG-13</td>\n",
              "      <td>104 min</td>\n",
              "      <td>Comedies, Romantic Movies</td>\n",
              "      <td>After a bitter divorce, a bank drone falls und...</td>\n",
              "      <td>1</td>\n",
              "      <td>2020</td>\n",
              "    </tr>\n",
              "    <tr>\n",
              "      <th>7697</th>\n",
              "      <td>s7715</td>\n",
              "      <td>Movie</td>\n",
              "      <td>Yoga Hosers</td>\n",
              "      <td>Kevin Smith</td>\n",
              "      <td>Harley Quinn Smith, Lily-Rose Depp, Johnny Dep...</td>\n",
              "      <td>United States</td>\n",
              "      <td>2016-12-02</td>\n",
              "      <td>2016</td>\n",
              "      <td>PG-13</td>\n",
              "      <td>88 min</td>\n",
              "      <td>Comedies, Horror Movies, Independent Movies</td>\n",
              "      <td>With an all-important high school party at sta...</td>\n",
              "      <td>12</td>\n",
              "      <td>2016</td>\n",
              "    </tr>\n",
              "  </tbody>\n",
              "</table>\n",
              "<p>357 rows × 14 columns</p>\n",
              "</div>\n",
              "      <button class=\"colab-df-convert\" onclick=\"convertToInteractive('df-7acc2b20-da32-4b3d-b05b-0a538dbe6730')\"\n",
              "              title=\"Convert this dataframe to an interactive table.\"\n",
              "              style=\"display:none;\">\n",
              "        \n",
              "  <svg xmlns=\"http://www.w3.org/2000/svg\" height=\"24px\"viewBox=\"0 0 24 24\"\n",
              "       width=\"24px\">\n",
              "    <path d=\"M0 0h24v24H0V0z\" fill=\"none\"/>\n",
              "    <path d=\"M18.56 5.44l.94 2.06.94-2.06 2.06-.94-2.06-.94-.94-2.06-.94 2.06-2.06.94zm-11 1L8.5 8.5l.94-2.06 2.06-.94-2.06-.94L8.5 2.5l-.94 2.06-2.06.94zm10 10l.94 2.06.94-2.06 2.06-.94-2.06-.94-.94-2.06-.94 2.06-2.06.94z\"/><path d=\"M17.41 7.96l-1.37-1.37c-.4-.4-.92-.59-1.43-.59-.52 0-1.04.2-1.43.59L10.3 9.45l-7.72 7.72c-.78.78-.78 2.05 0 2.83L4 21.41c.39.39.9.59 1.41.59.51 0 1.02-.2 1.41-.59l7.78-7.78 2.81-2.81c.8-.78.8-2.07 0-2.86zM5.41 20L4 18.59l7.72-7.72 1.47 1.35L5.41 20z\"/>\n",
              "  </svg>\n",
              "      </button>\n",
              "      \n",
              "  <style>\n",
              "    .colab-df-container {\n",
              "      display:flex;\n",
              "      flex-wrap:wrap;\n",
              "      gap: 12px;\n",
              "    }\n",
              "\n",
              "    .colab-df-convert {\n",
              "      background-color: #E8F0FE;\n",
              "      border: none;\n",
              "      border-radius: 50%;\n",
              "      cursor: pointer;\n",
              "      display: none;\n",
              "      fill: #1967D2;\n",
              "      height: 32px;\n",
              "      padding: 0 0 0 0;\n",
              "      width: 32px;\n",
              "    }\n",
              "\n",
              "    .colab-df-convert:hover {\n",
              "      background-color: #E2EBFA;\n",
              "      box-shadow: 0px 1px 2px rgba(60, 64, 67, 0.3), 0px 1px 3px 1px rgba(60, 64, 67, 0.15);\n",
              "      fill: #174EA6;\n",
              "    }\n",
              "\n",
              "    [theme=dark] .colab-df-convert {\n",
              "      background-color: #3B4455;\n",
              "      fill: #D2E3FC;\n",
              "    }\n",
              "\n",
              "    [theme=dark] .colab-df-convert:hover {\n",
              "      background-color: #434B5C;\n",
              "      box-shadow: 0px 1px 3px 1px rgba(0, 0, 0, 0.15);\n",
              "      filter: drop-shadow(0px 1px 2px rgba(0, 0, 0, 0.3));\n",
              "      fill: #FFFFFF;\n",
              "    }\n",
              "  </style>\n",
              "\n",
              "      <script>\n",
              "        const buttonEl =\n",
              "          document.querySelector('#df-7acc2b20-da32-4b3d-b05b-0a538dbe6730 button.colab-df-convert');\n",
              "        buttonEl.style.display =\n",
              "          google.colab.kernel.accessAllowed ? 'block' : 'none';\n",
              "\n",
              "        async function convertToInteractive(key) {\n",
              "          const element = document.querySelector('#df-7acc2b20-da32-4b3d-b05b-0a538dbe6730');\n",
              "          const dataTable =\n",
              "            await google.colab.kernel.invokeFunction('convertToInteractive',\n",
              "                                                     [key], {});\n",
              "          if (!dataTable) return;\n",
              "\n",
              "          const docLinkHtml = 'Like what you see? Visit the ' +\n",
              "            '<a target=\"_blank\" href=https://colab.research.google.com/notebooks/data_table.ipynb>data table notebook</a>'\n",
              "            + ' to learn more about interactive tables.';\n",
              "          element.innerHTML = '';\n",
              "          dataTable['output_type'] = 'display_data';\n",
              "          await google.colab.output.renderOutput(dataTable, element);\n",
              "          const docLink = document.createElement('div');\n",
              "          docLink.innerHTML = docLinkHtml;\n",
              "          element.appendChild(docLink);\n",
              "        }\n",
              "      </script>\n",
              "    </div>\n",
              "  </div>\n",
              "  "
            ]
          },
          "metadata": {},
          "execution_count": 59
        }
      ]
    },
    {
      "cell_type": "markdown",
      "source": [
        "This cluster primarily contains Action & Adventure movies."
      ],
      "metadata": {
        "id": "XyESnpJBCUcD"
      }
    },
    {
      "cell_type": "markdown",
      "source": [
        "### NLP"
      ],
      "metadata": {
        "id": "orp_m3JlCwNS"
      }
    },
    {
      "cell_type": "code",
      "source": [],
      "metadata": {
        "id": "DyqMtxV4C2pn"
      },
      "execution_count": null,
      "outputs": []
    }
  ]
}